{
 "cells": [
  {
   "cell_type": "code",
   "execution_count": 1,
   "metadata": {},
   "outputs": [
    {
     "name": "stdout",
     "output_type": "stream",
     "text": [
      "(1596, 7)\n",
      "(798, 7)\n",
      "(2394, 7)\n",
      "(2254, 987)\n",
      "(1456, 987)\n",
      "(798, 987)\n"
     ]
    },
    {
     "data": {
      "text/plain": [
       "(array([[0.26852248, 0.69050928, 0.84293243, ..., 0.7248611 , 0.78501228,\n",
       "         0.78019628],\n",
       "        [0.26809172, 0.68961257, 0.86261538, ..., 0.73902356, 0.76453755,\n",
       "         0.77393547],\n",
       "        [0.26755999, 0.70091958, 0.83368095, ..., 0.75318469, 0.80595992,\n",
       "         0.80807384],\n",
       "        ...,\n",
       "        [0.34554833, 0.72506255, 0.82194424, ..., 0.14863487, 0.10085924,\n",
       "         0.06940483],\n",
       "        [0.35862704, 0.72827111, 0.81941078, ..., 0.05155032, 0.16003337,\n",
       "         0.12935675],\n",
       "        [0.37170574, 0.71061705, 0.82235701, ..., 0.13429318, 0.11277974,\n",
       "         0.08752983]]),\n",
       " array([[0.38478443, 0.72045638, 0.82105838, ..., 0.        , 0.08265525,\n",
       "         0.06397773],\n",
       "        [0.33175105, 0.70721058, 0.82235701, ..., 0.35710291, 0.19006869,\n",
       "         0.18255432],\n",
       "        [0.32021769, 0.71819708, 0.82197302, ..., 0.40229458, 0.26287512,\n",
       "         0.27375392],\n",
       "        ...,\n",
       "        [0.35236043, 0.69146204, 0.60808117, ..., 0.57021549, 0.59658532,\n",
       "         0.52125364],\n",
       "        [0.37494329, 0.71248052, 0.60459726, ..., 0.53908994, 0.63198056,\n",
       "         0.5358252 ],\n",
       "        [0.39877841, 0.73969895, 0.60670862, ..., 0.50796571, 0.68084885,\n",
       "         0.56822388]]))"
      ]
     },
     "execution_count": 1,
     "metadata": {},
     "output_type": "execute_result"
    }
   ],
   "source": [
    "import transform_shape\n",
    "transform_shape.trans(20)"
   ]
  },
  {
   "cell_type": "code",
   "execution_count": 1,
   "metadata": {},
   "outputs": [],
   "source": [
    "from statsmodels.tsa.api import ExponentialSmoothing, \\\n",
    "SimpleExpSmoothing, Holt\n",
    "import statsmodels.api as sm\n",
    "y_hat_avg = test.copy()\n",
    "fit2 = SimpleExpSmoothing(np.asarray(train['Count'])).fit(\n",
    "smoothing_level=0.6,optimized=False)\n",
    "y_hat_avg['SES'] = fit2.forecast(len(test))\n"
   ]
  },
  {
   "cell_type": "code",
   "execution_count": 1,
   "metadata": {},
   "outputs": [
    {
     "name": "stdout",
     "output_type": "stream",
     "text": [
      "path -> ./data\n",
      "x_train.shape -> (1594, 21)\n",
      "y_train.shape -> (1594,)\n",
      "x_test.shape  -> (798, 21)\n",
      "(1594, 22)\n",
      "(1594, 22)\n",
      "Coefficients:[-6.16200890e-03  1.90501767e-01 -2.26175622e-01  2.12485054e-01\n",
      " -9.24025363e-01  3.00726471e-01  4.43817140e-01 -1.58543595e-01\n",
      "  8.94107041e-02  1.69950461e-01  3.62515517e-02 -8.26781117e-02\n",
      "  8.98895117e-03 -2.23646793e-01  4.27584939e-01  1.00217556e-01\n",
      " -9.22245342e-02 -2.69468959e-01  2.21922166e-01  1.20702871e-02\n",
      " -1.05292706e-01  4.60107976e-05],intercept 0.24\n"
     ]
    },
    {
     "name": "stderr",
     "output_type": "stream",
     "text": [
      "D:\\Programs\\anaconda\\lib\\site-packages\\xlsxwriter\\workbook.py:336: UserWarning: Calling close() on already closed file.\n",
      "  warn(\"Calling close() on already closed file.\")\n"
     ]
    }
   ],
   "source": [
    "#定义线性回归模型\n",
    "def test_LinearRegrssion():\n",
    "    import parameters\n",
    "    import load_data\n",
    "    from sklearn import linear_model\n",
    "    import pandas as pd \n",
    "    import numpy as np\n",
    "    path = parameters.G_DataPath\n",
    "    x_train, y_train, x_test = load_data.load_train_data(path)\n",
    "    a = np.arange(1594)\n",
    "    a = a[:,np.newaxis]\n",
    "    x_train = np.concatenate((x_train,a),axis=1)\n",
    "    print(x_train.shape)\n",
    "    b = np.arange(1594,2392,1)\n",
    "    b = b[:,np.newaxis]\n",
    "    x_test = np.concatenate((x_test,b),axis=1)\n",
    "    print(x_train.shape)\n",
    "    regr = linear_model.LinearRegression()\n",
    "    regr.fit(x_train,y_train)#训练数据\n",
    "    print('Coefficients:%s,intercept %.2f' % (regr.coef_, regr.intercept_))#权重向量即为每个特征的相关系数\n",
    "    y_test=regr.predict(x_test)\n",
    "    data = pd.DataFrame(y_test)\n",
    "    writer = pd.ExcelWriter('test.xlsx')\n",
    "    data.to_excel(writer, 'page_1', float_format='%.5f')\t\t# ‘page_1’是写入excel的sheet名\n",
    "    writer.save()\n",
    "    writer.close()\n",
    "test_LinearRegrssion()"
   ]
  },
  {
   "cell_type": "code",
   "execution_count": 18,
   "metadata": {},
   "outputs": [
    {
     "name": "stdout",
     "output_type": "stream",
     "text": [
      "(2, 7)\n",
      "(1594, 21)\n",
      "(798, 21)\n"
     ]
    }
   ],
   "source": [
    "def modifytraindata():\n",
    "    # tn-2,tn-1,tn\n",
    "    import preprocess\n",
    "    import numpy as np\n",
    "    a=np.loadtxt('./data/train_input.txt',dtype=np.float32)\n",
    "    #data2删去前两行\n",
    "    data1=np.delete(a, 0, axis = 0)\n",
    "    data2=np.delete(data1, 0, axis = 0)\n",
    "    #data3删去第一行和最后一行\n",
    "    data3=np.delete(data1, len(data1)-1, axis = 0)\n",
    "    #data4删去最后两行\n",
    "    data4=np.delete(a, len(a)-1, axis = 0)\n",
    "    data4=np.delete(data4, len(data4)-1, axis = 0)\n",
    "    #按照data4、data3、data2排列\n",
    "    data=np.concatenate((data4,data3),axis=1)\n",
    "    data=np.concatenate((data,data2),axis=1)\n",
    "    np.savetxt('./data/train_modify.txt',data)\n",
    "    \n",
    "def modifytestdata():\n",
    "    import numpy as np\n",
    "    a=np.loadtxt('./data/train_input.txt',dtype=np.float32)\n",
    "    data1=a[1594:,:]\n",
    "    print(data1.shape)\n",
    "    b=np.loadtxt('./data/test_input.txt',dtype=np.float32)\n",
    "    data0=np.concatenate((data1,b),axis=0)\n",
    "    data1=np.delete(data0, len(data0)-1, axis = 0)\n",
    "    data1=np.delete(data1, len(data1)-1, axis = 0)\n",
    "    data2=np.delete(data0, len(data0)-1, axis = 0)\n",
    "    data2=np.delete(data2, 0, axis = 0)\n",
    "    data3=np.delete(data0, [0,1], axis = 0)\n",
    "    data=np.concatenate((data1,data2,data3),axis=1)\n",
    "    np.savetxt('./data/test_modify.txt',data)\n",
    "def modifyoutput():\n",
    "    a=np.loadtxt('./data/output.txt',dtype=np.float32)\n",
    "    a=np.delete(a, [0,1], axis = 0)\n",
    "    np.savetxt('./data/output_modify.txt',a)\n",
    "def modifydata():\n",
    "    modifytraindata()\n",
    "    modifytestdata()\n",
    "    modifyoutput()\n",
    "modifydata()\n",
    "import numpy as np\n",
    "a=np.loadtxt('./data/train_modify.txt',dtype=np.float32)\n",
    "print(a.shape)\n",
    "a=np.loadtxt('./data/test_modify.txt',dtype=np.float32)\n",
    "print(a.shape)"
   ]
  }
 ],
 "metadata": {
  "interpreter": {
   "hash": "a4464bb7170d84ed3baf15b5ee330259a1ecf9d116382ca07bf1f6bf97c48dc3"
  },
  "kernelspec": {
   "display_name": "Python 3.8.8 64-bit ('base': conda)",
   "language": "python",
   "name": "python3"
  },
  "language_info": {
   "codemirror_mode": {
    "name": "ipython",
    "version": 3
   },
   "file_extension": ".py",
   "mimetype": "text/x-python",
   "name": "python",
   "nbconvert_exporter": "python",
   "pygments_lexer": "ipython3",
   "version": "3.8.8"
  },
  "orig_nbformat": 4
 },
 "nbformat": 4,
 "nbformat_minor": 2
}
