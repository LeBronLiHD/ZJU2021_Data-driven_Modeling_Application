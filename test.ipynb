{
 "cells": [
  {
   "cell_type": "code",
   "execution_count": 1,
   "metadata": {},
   "outputs": [],
   "source": [
    "from statsmodels.tsa.api import ExponentialSmoothing, \\\n",
    "SimpleExpSmoothing, Holt\n",
    "import statsmodels.api as sm\n",
    "y_hat_avg = test.copy()\n",
    "fit2 = SimpleExpSmoothing(np.asarray(train['Count'])).fit(\n",
    "smoothing_level=0.6,optimized=False)\n",
    "y_hat_avg['SES'] = fit2.forecast(len(test))\n"
   ]
  },
  {
   "cell_type": "code",
   "execution_count": null,
   "metadata": {},
   "outputs": [],
   "source": [
    "import pandas as pd \n",
    "import numpy as np \n",
    "import matplotlib.pyplot as plt\n",
    "import parameters\n",
    "import load_data\n",
    "path = parameters.G_DataPath\n",
    "x_train, y_train, x_test = load_data.load_train_data(path)\n",
    "df = pd.read_csv('data/data83497/jetrail.csv', nrows=11856)\n",
    "train = df[0:10392]\n",
    "test = df[10392:]\n",
    " \n",
    "# Aggregating the dataset at daily level\n",
    "df['Timestamp'] = pd.to_datetime(df['Datetime'], format='%d-%m-%Y %H:%M')  # 4位年用Y，2位年用y\n",
    "df.index = df['Timestamp']\n",
    "df = df.resample('D').mean() #按天采样，计算均值\n",
    " \n",
    "train['Timestamp'] = pd.to_datetime(train['Datetime'], format='%d-%m-%Y %H:%M')\n",
    "train.index = train['Timestamp']\n",
    "train = train.resample('D').mean() #\n",
    " \n",
    "test['Timestamp'] = pd.to_datetime(test['Datetime'], format='%d-%m-%Y %H:%M')\n",
    "test.index = test['Timestamp']\n",
    "test = test.resample('D').mean()\n",
    " \n",
    "#Plotting data\n",
    "train.Count.plot(figsize=(15,8), title= 'Daily Ridership', fontsize=14)\n",
    "test.Count.plot(figsize=(15,8), title= 'Daily Ridership', fontsize=14)\n",
    "plt.show()\n"
   ]
  },
  {
   "cell_type": "code",
   "execution_count": null,
   "metadata": {},
   "outputs": [],
   "source": [
    "import statsmodels.api as sm\n",
    "sm.tsa.seasonal_decompose(train['Count']).plot()\n",
    "result = sm.tsa.stattools.adfuller(train['Count'])\n",
    "plt.show()\n",
    "from statsmodels.tsa.api import Holt\n",
    " \n",
    "y_hat_avg = test.copy()\n",
    " \n",
    "fit = Holt(np.asarray(train['Count'])).fit(smoothing_level=0.3, smoothing_slope=0.1)\n",
    "y_hat_avg['Holt_linear'] = fit.forecast(len(test))\n",
    " \n",
    "plt.figure(figsize=(16, 8))\n",
    "plt.plot(train['Count'], label='Train')\n",
    "plt.plot(test['Count'], label='Test')\n",
    "plt.plot(y_hat_avg['Holt_linear'], label='Holt_linear')\n",
    "plt.legend(loc='best')\n",
    "plt.show()\n"
   ]
  },
  {
   "cell_type": "code",
   "execution_count": null,
   "metadata": {},
   "outputs": [],
   "source": [
    "# 导⼊模块\n",
    "from sklearn import model_selection\n",
    "# 导⼊数据\n",
    "import parameters\n",
    "import load_data\n",
    "path = parameters.G_DataPath\n",
    "x_train, y_train, x_test = load_data.load_train_data(path)\n",
    "df = pd.read_csv('data/data83497/jetrail.csv', nrows=11856)\n",
    "# 根据train数据集建模\n",
    "model = sm.formula.ols('Profit ~ RD_Spend+Administration+Marketing_Spend+C(State)', data= x_train).fit()\n",
    "# print('模型的偏回归系数分别为：\\n', model.params)\n",
    "# 删除test数据集中的Profit变量，⽤剩下的⾃变量进⾏预测\n",
    "test_X = test.drop(labels = 'Profit', axis = 1)\n",
    "\n",
    "pred = model.predict(exog = test_X)\n",
    "print('对⽐预测值和实际值的差异：\\n',pd.DataFrame({'Prediction':pred,'Real':test.Profit}))"
   ]
  },
  {
   "cell_type": "code",
   "execution_count": 16,
   "metadata": {},
   "outputs": [
    {
     "name": "stdout",
     "output_type": "stream",
     "text": [
      "path -> ./data\n",
      "x_train.shape -> (1596, 7)\n",
      "y_train.shape -> (1596,)\n",
      "x_test.shape  -> (798, 7)\n",
      "(1596, 7)\n",
      "Coefficients:[ 0.32542175  0.22815515 -0.11796135 -0.00827867 -0.63326764  0.43635374\n",
      " -0.11087308],intercept 0.31\n"
     ]
    },
    {
     "name": "stderr",
     "output_type": "stream",
     "text": [
      "D:\\Programs\\anaconda\\lib\\site-packages\\xlsxwriter\\workbook.py:336: UserWarning: Calling close() on already closed file.\n",
      "  warn(\"Calling close() on already closed file.\")\n"
     ]
    }
   ],
   "source": [
    "#定义线性回归模型\n",
    "def test_LinearRegrssion():\n",
    "    import parameters\n",
    "    import load_data\n",
    "    from sklearn import linear_model\n",
    "    import pandas as pd \n",
    "    path = parameters.G_DataPath\n",
    "    x_train, y_train, x_test = load_data.load_train_data(path)\n",
    "    print(x_train.shape)\n",
    "    regr = linear_model.LinearRegression()\n",
    "    regr.fit(x_train,y_train)#训练数据\n",
    "    print('Coefficients:%s,intercept %.2f' % (regr.coef_, regr.intercept_))#权重向量即为每个特征的相关系数\n",
    "    y_test=regr.predict(x_test)\n",
    "    data = pd.DataFrame(y_test)\n",
    "    writer = pd.ExcelWriter('test.xlsx')\n",
    "    data.to_excel(writer, 'page_1', float_format='%.5f')\t\t# ‘page_1’是写入excel的sheet名\n",
    "    writer.save()\n",
    "    writer.close()\n",
    "test_LinearRegrssion()"
   ]
  },
  {
   "cell_type": "code",
   "execution_count": 18,
   "metadata": {},
   "outputs": [
    {
     "name": "stdout",
     "output_type": "stream",
     "text": [
      "(2, 7)\n",
      "(1594, 21)\n",
      "(798, 21)\n"
     ]
    }
   ],
   "source": [
    "def modifytraindata():\n",
    "    # tn-2,tn-1,tn\n",
    "    import preprocess\n",
    "    import numpy as np\n",
    "    a=np.loadtxt('./data/train_input.txt',dtype=np.float32)\n",
    "    #data2删去前两行\n",
    "    data1=np.delete(a, 0, axis = 0)\n",
    "    data2=np.delete(data1, 0, axis = 0)\n",
    "    #data3删去第一行和最后一行\n",
    "    data3=np.delete(data1, len(data1)-1, axis = 0)\n",
    "    #data4删去最后两行\n",
    "    data4=np.delete(a, len(a)-1, axis = 0)\n",
    "    data4=np.delete(data4, len(data4)-1, axis = 0)\n",
    "    #按照data4、data3、data2排列\n",
    "    data=np.concatenate((data4,data3),axis=1)\n",
    "    data=np.concatenate((data,data2),axis=1)\n",
    "    np.savetxt('./data/train_modify.txt',data)\n",
    "    \n",
    "def modifytestdata():\n",
    "    import numpy as np\n",
    "    a=np.loadtxt('./data/train_input.txt',dtype=np.float32)\n",
    "    data1=a[1594:,:]\n",
    "    print(data1.shape)\n",
    "    b=np.loadtxt('./data/test_input.txt',dtype=np.float32)\n",
    "    data0=np.concatenate((data1,b),axis=0)\n",
    "    data1=np.delete(data0, len(data0)-1, axis = 0)\n",
    "    data1=np.delete(data1, len(data1)-1, axis = 0)\n",
    "    data2=np.delete(data0, len(data0)-1, axis = 0)\n",
    "    data2=np.delete(data2, 0, axis = 0)\n",
    "    data3=np.delete(data0, [0,1], axis = 0)\n",
    "    data=np.concatenate((data1,data2,data3),axis=1)\n",
    "    np.savetxt('./data/test_modify.txt',data)\n",
    "def modifyoutput():\n",
    "    a=np.loadtxt('./data/output.txt',dtype=np.float32)\n",
    "    a=np.delete(a, [0,1], axis = 0)\n",
    "    np.savetxt('./data/output_modify.txt',a)\n",
    "def modifydata():\n",
    "    modifytraindata()\n",
    "    modifytestdata()\n",
    "    modifyoutput()\n",
    "modifydata()\n",
    "import numpy as np\n",
    "a=np.loadtxt('./data/train_modify.txt',dtype=np.float32)\n",
    "print(a.shape)\n",
    "a=np.loadtxt('./data/test_modify.txt',dtype=np.float32)\n",
    "print(a.shape)"
   ]
  }
 ],
 "metadata": {
  "interpreter": {
   "hash": "a4464bb7170d84ed3baf15b5ee330259a1ecf9d116382ca07bf1f6bf97c48dc3"
  },
  "kernelspec": {
   "display_name": "Python 3.8.8 64-bit ('base': conda)",
   "language": "python",
   "name": "python3"
  },
  "language_info": {
   "codemirror_mode": {
    "name": "ipython",
    "version": 3
   },
   "file_extension": ".py",
   "mimetype": "text/x-python",
   "name": "python",
   "nbconvert_exporter": "python",
   "pygments_lexer": "ipython3",
   "version": "3.8.8"
  },
  "orig_nbformat": 4
 },
 "nbformat": 4,
 "nbformat_minor": 2
}
