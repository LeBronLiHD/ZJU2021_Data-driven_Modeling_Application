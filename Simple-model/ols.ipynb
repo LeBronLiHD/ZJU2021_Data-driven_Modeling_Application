{
 "cells": [
  {
   "cell_type": "markdown",
   "source": [
    "这里完成ols部分"
   ],
   "metadata": {
    "collapsed": false
   }
  },
  {
   "cell_type": "code",
   "execution_count": 9,
   "outputs": [],
   "source": [
    "\"\"\"\n",
    "最小二乘法进行回归\n",
    "\"\"\"\n",
    "import numpy as np\n",
    "import pandas as pd\n",
    "train_input_txt = pd.read_table('train_input.txt',header = None)\n",
    "output_txt = pd.read_table('output.txt',header = None)"
   ],
   "metadata": {
    "collapsed": false,
    "pycharm": {
     "name": "#%%\n"
    }
   }
  },
  {
   "cell_type": "code",
   "execution_count": 10,
   "outputs": [],
   "source": [
    "# 变成数组形式\n",
    "train_input=np.loadtxt('train_input.txt',dtype=np.float32)\n",
    "output=np.loadtxt('output.txt',dtype=np.float32)"
   ],
   "metadata": {
    "collapsed": false,
    "pycharm": {
     "name": "#%%\n"
    }
   }
  },
  {
   "cell_type": "code",
   "execution_count": 11,
   "outputs": [
    {
     "data": {
      "text/plain": "                  0             1             2             3             4  \\\ncount  1.596000e+03  1.594000e+03  1.596000e+03  1.594000e+03  1.596000e+03   \nmean  -3.850639e+29  9.538568e+31 -7.124172e+31 -1.593705e+30 -1.265751e+32   \nstd             inf           inf           inf           inf           inf   \nmin   -1.278650e+33 -1.176973e+34 -1.151700e+35 -2.961621e+33 -5.588549e+35   \n25%    2.163806e-01  6.475924e-01  4.557506e-01  3.759671e-01  6.658017e-01   \n50%    2.482952e-01  6.650046e-01  6.223858e-01  4.756395e-01  7.125754e-01   \n75%    2.974956e-01  6.835331e-01  7.288673e-01  5.518001e-01  7.427871e-01   \nmax    6.935862e+32  1.640999e+35  1.461828e+33  1.787091e+33  3.993316e+35   \n\n                  5             6  \ncount  1.594000e+03  1.596000e+03  \nmean   1.197499e+32 -7.148417e+32  \nstd             inf           inf  \nmin   -4.300046e+34 -1.153564e+36  \n25%    5.613551e-01  5.186073e-01  \n50%    7.212142e-01  6.936426e-01  \n75%    7.916644e-01  7.749699e-01  \nmax    2.560591e+35  3.280684e+34  ",
      "text/html": "<div>\n<style scoped>\n    .dataframe tbody tr th:only-of-type {\n        vertical-align: middle;\n    }\n\n    .dataframe tbody tr th {\n        vertical-align: top;\n    }\n\n    .dataframe thead th {\n        text-align: right;\n    }\n</style>\n<table border=\"1\" class=\"dataframe\">\n  <thead>\n    <tr style=\"text-align: right;\">\n      <th></th>\n      <th>0</th>\n      <th>1</th>\n      <th>2</th>\n      <th>3</th>\n      <th>4</th>\n      <th>5</th>\n      <th>6</th>\n    </tr>\n  </thead>\n  <tbody>\n    <tr>\n      <th>count</th>\n      <td>1.596000e+03</td>\n      <td>1.594000e+03</td>\n      <td>1.596000e+03</td>\n      <td>1.594000e+03</td>\n      <td>1.596000e+03</td>\n      <td>1.594000e+03</td>\n      <td>1.596000e+03</td>\n    </tr>\n    <tr>\n      <th>mean</th>\n      <td>-3.850639e+29</td>\n      <td>9.538568e+31</td>\n      <td>-7.124172e+31</td>\n      <td>-1.593705e+30</td>\n      <td>-1.265751e+32</td>\n      <td>1.197499e+32</td>\n      <td>-7.148417e+32</td>\n    </tr>\n    <tr>\n      <th>std</th>\n      <td>inf</td>\n      <td>inf</td>\n      <td>inf</td>\n      <td>inf</td>\n      <td>inf</td>\n      <td>inf</td>\n      <td>inf</td>\n    </tr>\n    <tr>\n      <th>min</th>\n      <td>-1.278650e+33</td>\n      <td>-1.176973e+34</td>\n      <td>-1.151700e+35</td>\n      <td>-2.961621e+33</td>\n      <td>-5.588549e+35</td>\n      <td>-4.300046e+34</td>\n      <td>-1.153564e+36</td>\n    </tr>\n    <tr>\n      <th>25%</th>\n      <td>2.163806e-01</td>\n      <td>6.475924e-01</td>\n      <td>4.557506e-01</td>\n      <td>3.759671e-01</td>\n      <td>6.658017e-01</td>\n      <td>5.613551e-01</td>\n      <td>5.186073e-01</td>\n    </tr>\n    <tr>\n      <th>50%</th>\n      <td>2.482952e-01</td>\n      <td>6.650046e-01</td>\n      <td>6.223858e-01</td>\n      <td>4.756395e-01</td>\n      <td>7.125754e-01</td>\n      <td>7.212142e-01</td>\n      <td>6.936426e-01</td>\n    </tr>\n    <tr>\n      <th>75%</th>\n      <td>2.974956e-01</td>\n      <td>6.835331e-01</td>\n      <td>7.288673e-01</td>\n      <td>5.518001e-01</td>\n      <td>7.427871e-01</td>\n      <td>7.916644e-01</td>\n      <td>7.749699e-01</td>\n    </tr>\n    <tr>\n      <th>max</th>\n      <td>6.935862e+32</td>\n      <td>1.640999e+35</td>\n      <td>1.461828e+33</td>\n      <td>1.787091e+33</td>\n      <td>3.993316e+35</td>\n      <td>2.560591e+35</td>\n      <td>3.280684e+34</td>\n    </tr>\n  </tbody>\n</table>\n</div>"
     },
     "execution_count": 11,
     "metadata": {},
     "output_type": "execute_result"
    }
   ],
   "source": [
    "data_train=pd.DataFrame(train_input)\n",
    "data_output=pd.DataFrame(output)\n",
    "data_train.describe()"
   ],
   "metadata": {
    "collapsed": false,
    "pycharm": {
     "name": "#%%\n"
    }
   }
  },
  {
   "cell_type": "code",
   "execution_count": 12,
   "outputs": [
    {
     "data": {
      "text/plain": "                 0\ncount  1596.000000\nmean      0.258099\nstd       0.137538\nmin       0.019020\n25%       0.178341\n50%       0.244987\n75%       0.296984\nmax       1.000000",
      "text/html": "<div>\n<style scoped>\n    .dataframe tbody tr th:only-of-type {\n        vertical-align: middle;\n    }\n\n    .dataframe tbody tr th {\n        vertical-align: top;\n    }\n\n    .dataframe thead th {\n        text-align: right;\n    }\n</style>\n<table border=\"1\" class=\"dataframe\">\n  <thead>\n    <tr style=\"text-align: right;\">\n      <th></th>\n      <th>0</th>\n    </tr>\n  </thead>\n  <tbody>\n    <tr>\n      <th>count</th>\n      <td>1596.000000</td>\n    </tr>\n    <tr>\n      <th>mean</th>\n      <td>0.258099</td>\n    </tr>\n    <tr>\n      <th>std</th>\n      <td>0.137538</td>\n    </tr>\n    <tr>\n      <th>min</th>\n      <td>0.019020</td>\n    </tr>\n    <tr>\n      <th>25%</th>\n      <td>0.178341</td>\n    </tr>\n    <tr>\n      <th>50%</th>\n      <td>0.244987</td>\n    </tr>\n    <tr>\n      <th>75%</th>\n      <td>0.296984</td>\n    </tr>\n    <tr>\n      <th>max</th>\n      <td>1.000000</td>\n    </tr>\n  </tbody>\n</table>\n</div>"
     },
     "execution_count": 12,
     "metadata": {},
     "output_type": "execute_result"
    }
   ],
   "source": [
    "data_output.describe()"
   ],
   "metadata": {
    "collapsed": false,
    "pycharm": {
     "name": "#%%\n"
    }
   }
  },
  {
   "cell_type": "code",
   "execution_count": 12,
   "outputs": [],
   "source": [],
   "metadata": {
    "collapsed": false,
    "pycharm": {
     "name": "#%%\n"
    }
   }
  }
 ],
 "metadata": {
  "kernelspec": {
   "display_name": "Python 3",
   "language": "python",
   "name": "python3"
  },
  "language_info": {
   "codemirror_mode": {
    "name": "ipython",
    "version": 2
   },
   "file_extension": ".py",
   "mimetype": "text/x-python",
   "name": "python",
   "nbconvert_exporter": "python",
   "pygments_lexer": "ipython2",
   "version": "2.7.6"
  }
 },
 "nbformat": 4,
 "nbformat_minor": 0
}