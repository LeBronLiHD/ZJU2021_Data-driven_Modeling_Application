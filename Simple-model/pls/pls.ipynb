{
 "cells": [
  {
   "cell_type": "code",
   "execution_count": 126,
   "metadata": {
    "collapsed": true
   },
   "outputs": [
    {
     "data": {
      "text/plain": [
       "'\\n偏最小二乘法进行回归，相对于ols有更多的提取特征优化\\n'"
      ]
     },
     "execution_count": 126,
     "metadata": {},
     "output_type": "execute_result"
    }
   ],
   "source": [
    "\"\"\"\n",
    "偏最小二乘法进行回归，相对于ols有更多的提取特征优化\n",
    "\"\"\""
   ]
  },
  {
   "cell_type": "code",
   "execution_count": 1,
   "metadata": {
    "collapsed": false,
    "pycharm": {
     "name": "#%%\n"
    }
   },
   "outputs": [],
   "source": [
    "import numpy as np\n",
    "import pandas as pd\n",
    "train_input_txt = pd.read_table('train_input.txt',header = None)\n",
    "output_txt = pd.read_table('output.txt',header = None)"
   ]
  },
  {
   "cell_type": "code",
   "execution_count": 2,
   "metadata": {
    "collapsed": false,
    "pycharm": {
     "name": "#%%\n"
    }
   },
   "outputs": [
    {
     "name": "stdout",
     "output_type": "stream",
     "text": [
      "nan count -> 0\n"
     ]
    }
   ],
   "source": [
    "# 变成数组形式\n",
    "import preprocess\n",
    "train_input=np.loadtxt('train_input.txt',dtype=np.float32)\n",
    "train_input[np.isnan(train_input)] = -1\n",
    "train_input = preprocess.smaller_than_zero(train_input)\n",
    "output=np.loadtxt('output.txt',dtype=np.float32)"
   ]
  },
  {
   "cell_type": "code",
   "execution_count": 4,
   "metadata": {
    "collapsed": false,
    "pycharm": {
     "name": "#%%\n"
    }
   },
   "outputs": [
    {
     "data": {
      "text/html": [
       "<div>\n",
       "<style scoped>\n",
       "    .dataframe tbody tr th:only-of-type {\n",
       "        vertical-align: middle;\n",
       "    }\n",
       "\n",
       "    .dataframe tbody tr th {\n",
       "        vertical-align: top;\n",
       "    }\n",
       "\n",
       "    .dataframe thead th {\n",
       "        text-align: right;\n",
       "    }\n",
       "</style>\n",
       "<table border=\"1\" class=\"dataframe\">\n",
       "  <thead>\n",
       "    <tr style=\"text-align: right;\">\n",
       "      <th></th>\n",
       "      <th>0</th>\n",
       "      <th>1</th>\n",
       "      <th>2</th>\n",
       "      <th>3</th>\n",
       "      <th>4</th>\n",
       "      <th>5</th>\n",
       "      <th>6</th>\n",
       "    </tr>\n",
       "  </thead>\n",
       "  <tbody>\n",
       "    <tr>\n",
       "      <th>count</th>\n",
       "      <td>1596.000000</td>\n",
       "      <td>1596.000000</td>\n",
       "      <td>1596.000000</td>\n",
       "      <td>1596.000000</td>\n",
       "      <td>1596.000000</td>\n",
       "      <td>1596.000000</td>\n",
       "      <td>1596.000000</td>\n",
       "    </tr>\n",
       "    <tr>\n",
       "      <th>mean</th>\n",
       "      <td>0.267261</td>\n",
       "      <td>0.666737</td>\n",
       "      <td>0.580088</td>\n",
       "      <td>0.477875</td>\n",
       "      <td>0.692119</td>\n",
       "      <td>0.677660</td>\n",
       "      <td>0.649399</td>\n",
       "    </tr>\n",
       "    <tr>\n",
       "      <th>std</th>\n",
       "      <td>0.094676</td>\n",
       "      <td>0.037017</td>\n",
       "      <td>0.212365</td>\n",
       "      <td>0.115486</td>\n",
       "      <td>0.103215</td>\n",
       "      <td>0.154045</td>\n",
       "      <td>0.166252</td>\n",
       "    </tr>\n",
       "    <tr>\n",
       "      <th>min</th>\n",
       "      <td>0.008426</td>\n",
       "      <td>0.557551</td>\n",
       "      <td>0.001440</td>\n",
       "      <td>0.165742</td>\n",
       "      <td>0.051885</td>\n",
       "      <td>0.115021</td>\n",
       "      <td>0.078406</td>\n",
       "    </tr>\n",
       "    <tr>\n",
       "      <th>25%</th>\n",
       "      <td>0.216242</td>\n",
       "      <td>0.647887</td>\n",
       "      <td>0.456182</td>\n",
       "      <td>0.376166</td>\n",
       "      <td>0.666106</td>\n",
       "      <td>0.563542</td>\n",
       "      <td>0.527144</td>\n",
       "    </tr>\n",
       "    <tr>\n",
       "      <th>50%</th>\n",
       "      <td>0.247621</td>\n",
       "      <td>0.665164</td>\n",
       "      <td>0.622178</td>\n",
       "      <td>0.476069</td>\n",
       "      <td>0.712823</td>\n",
       "      <td>0.721214</td>\n",
       "      <td>0.694653</td>\n",
       "    </tr>\n",
       "    <tr>\n",
       "      <th>75%</th>\n",
       "      <td>0.295794</td>\n",
       "      <td>0.683569</td>\n",
       "      <td>0.727721</td>\n",
       "      <td>0.551845</td>\n",
       "      <td>0.742041</td>\n",
       "      <td>0.791088</td>\n",
       "      <td>0.774855</td>\n",
       "    </tr>\n",
       "    <tr>\n",
       "      <th>max</th>\n",
       "      <td>0.812926</td>\n",
       "      <td>1.381089</td>\n",
       "      <td>1.349245</td>\n",
       "      <td>0.976177</td>\n",
       "      <td>1.227174</td>\n",
       "      <td>1.203539</td>\n",
       "      <td>1.399412</td>\n",
       "    </tr>\n",
       "  </tbody>\n",
       "</table>\n",
       "</div>"
      ],
      "text/plain": [
       "                 0            1            2            3            4  \\\n",
       "count  1596.000000  1596.000000  1596.000000  1596.000000  1596.000000   \n",
       "mean      0.267261     0.666737     0.580088     0.477875     0.692119   \n",
       "std       0.094676     0.037017     0.212365     0.115486     0.103215   \n",
       "min       0.008426     0.557551     0.001440     0.165742     0.051885   \n",
       "25%       0.216242     0.647887     0.456182     0.376166     0.666106   \n",
       "50%       0.247621     0.665164     0.622178     0.476069     0.712823   \n",
       "75%       0.295794     0.683569     0.727721     0.551845     0.742041   \n",
       "max       0.812926     1.381089     1.349245     0.976177     1.227174   \n",
       "\n",
       "                 5            6  \n",
       "count  1596.000000  1596.000000  \n",
       "mean      0.677660     0.649399  \n",
       "std       0.154045     0.166252  \n",
       "min       0.115021     0.078406  \n",
       "25%       0.563542     0.527144  \n",
       "50%       0.721214     0.694653  \n",
       "75%       0.791088     0.774855  \n",
       "max       1.203539     1.399412  "
      ]
     },
     "execution_count": 4,
     "metadata": {},
     "output_type": "execute_result"
    }
   ],
   "source": [
    "data_train=pd.DataFrame(train_input)\n",
    "data_output=pd.DataFrame(output)\n",
    "data_train.describe()"
   ]
  },
  {
   "cell_type": "code",
   "execution_count": 5,
   "metadata": {
    "collapsed": false,
    "pycharm": {
     "name": "#%%\n"
    }
   },
   "outputs": [
    {
     "data": {
      "text/html": [
       "<div>\n",
       "<style scoped>\n",
       "    .dataframe tbody tr th:only-of-type {\n",
       "        vertical-align: middle;\n",
       "    }\n",
       "\n",
       "    .dataframe tbody tr th {\n",
       "        vertical-align: top;\n",
       "    }\n",
       "\n",
       "    .dataframe thead th {\n",
       "        text-align: right;\n",
       "    }\n",
       "</style>\n",
       "<table border=\"1\" class=\"dataframe\">\n",
       "  <thead>\n",
       "    <tr style=\"text-align: right;\">\n",
       "      <th></th>\n",
       "      <th>0</th>\n",
       "    </tr>\n",
       "  </thead>\n",
       "  <tbody>\n",
       "    <tr>\n",
       "      <th>count</th>\n",
       "      <td>1596.000000</td>\n",
       "    </tr>\n",
       "    <tr>\n",
       "      <th>mean</th>\n",
       "      <td>0.258098</td>\n",
       "    </tr>\n",
       "    <tr>\n",
       "      <th>std</th>\n",
       "      <td>0.137538</td>\n",
       "    </tr>\n",
       "    <tr>\n",
       "      <th>min</th>\n",
       "      <td>0.019020</td>\n",
       "    </tr>\n",
       "    <tr>\n",
       "      <th>25%</th>\n",
       "      <td>0.178341</td>\n",
       "    </tr>\n",
       "    <tr>\n",
       "      <th>50%</th>\n",
       "      <td>0.244987</td>\n",
       "    </tr>\n",
       "    <tr>\n",
       "      <th>75%</th>\n",
       "      <td>0.296984</td>\n",
       "    </tr>\n",
       "    <tr>\n",
       "      <th>max</th>\n",
       "      <td>1.000000</td>\n",
       "    </tr>\n",
       "  </tbody>\n",
       "</table>\n",
       "</div>"
      ],
      "text/plain": [
       "                 0\n",
       "count  1596.000000\n",
       "mean      0.258098\n",
       "std       0.137538\n",
       "min       0.019020\n",
       "25%       0.178341\n",
       "50%       0.244987\n",
       "75%       0.296984\n",
       "max       1.000000"
      ]
     },
     "execution_count": 5,
     "metadata": {},
     "output_type": "execute_result"
    }
   ],
   "source": [
    "data_output.describe()"
   ]
  },
  {
   "cell_type": "code",
   "execution_count": 5,
   "metadata": {
    "collapsed": false,
    "pycharm": {
     "name": "#%%\n"
    }
   },
   "outputs": [],
   "source": [
    "data_train.columns=['A','B','C','D','E','F','G']\n",
    "data_output.columns = ['Y']\n"
   ]
  },
  {
   "cell_type": "code",
   "execution_count": 6,
   "metadata": {
    "collapsed": false,
    "pycharm": {
     "name": "#%%\n"
    }
   },
   "outputs": [
    {
     "name": "stdout",
     "output_type": "stream",
     "text": [
      "best estimator -> PLSRegression(n_components=6, tol=0.001)\n"
     ]
    }
   ],
   "source": [
    "from matplotlib import pyplot as plt\n",
    "from sklearn.cross_decomposition import PLSRegression\n",
    "from sklearn.model_selection import GridSearchCV\n",
    "import statsmodels.api as sm\n",
    "# pls = PLSRegression(n_components=3, max_iter=500)\n",
    "pls = PLSRegression()\n",
    "param_grid = {\n",
    "    \"n_components\": [3, 4, 5, 6, 7],\n",
    "    \"tol\": [0.001, 0.0001, 0.00001, 0.000001, 0.0000001],\n",
    "    \"max_iter\": [500, 600, 700, 800, 900, 1000]\n",
    "}\n",
    "x = data_train[['A','B','C','D','E','F','G']]\n",
    "y = data_output[['Y']]\n",
    "clf = GridSearchCV(pls, param_grid=param_grid)\n",
    "clf.fit(x, y)\n",
    "print(\"best estimator ->\", clf.best_estimator_)"
   ]
  },
  {
   "cell_type": "code",
   "execution_count": 7,
   "metadata": {},
   "outputs": [
    {
     "name": "stderr",
     "output_type": "stream",
     "text": [
      "F:\\Python\\lib\\site-packages\\statsmodels\\tsa\\tsatools.py:142: FutureWarning: In a future version of pandas all arguments of concat except for the argument 'objs' will be keyword-only\n",
      "  x = pd.concat(x[::order], 1)\n"
     ]
    }
   ],
   "source": [
    "# x[np.isnan(x)] = 0\n",
    "# x[np.isinf(x)] = 0\n",
    "x=sm.add_constant(x)\n",
    "pls = PLSRegression(n_components=6, tol=1e-03)\n",
    "y_fitted = pls.fit(x,y).predict(x)\n",
    "# data_train=sm.add_constant(data_train)\n",
    "# data_train[np.isnan(data_train)] = 0\n",
    "# data_train[np.isinf(data_train)] = 0\n",
    "# y_fitted = pls.fit(data_train,data_output)"
   ]
  },
  {
   "cell_type": "code",
   "execution_count": 8,
   "metadata": {
    "collapsed": false,
    "pycharm": {
     "name": "#%%\n"
    }
   },
   "outputs": [
    {
     "data": {
      "text/plain": [
       "<matplotlib.legend.Legend at 0x16f86dcc6a0>"
      ]
     },
     "execution_count": 8,
     "metadata": {},
     "output_type": "execute_result"
    },
    {
     "data": {
      "image/png": "[encoded data removed]",
      "text/plain": [
       "<Figure size 576x432 with 1 Axes>"
      ]
     },
     "metadata": {
      "needs_background": "light"
     },
     "output_type": "display_data"
    }
   ],
   "source": [
    "fig, ax = plt.subplots(figsize=(8,6))\n",
    "ax.plot(data_output, '--', label='data')\n",
    "ax.plot(y_fitted, '-',label='PLS')\n",
    "ax.legend(loc='best')"
   ]
  },
  {
   "cell_type": "code",
   "execution_count": 9,
   "metadata": {
    "collapsed": false,
    "pycharm": {
     "name": "#%%\n"
    }
   },
   "outputs": [
    {
     "data": {
      "text/html": [
       "<div>\n",
       "<style scoped>\n",
       "    .dataframe tbody tr th:only-of-type {\n",
       "        vertical-align: middle;\n",
       "    }\n",
       "\n",
       "    .dataframe tbody tr th {\n",
       "        vertical-align: top;\n",
       "    }\n",
       "\n",
       "    .dataframe thead th {\n",
       "        text-align: right;\n",
       "    }\n",
       "</style>\n",
       "<table border=\"1\" class=\"dataframe\">\n",
       "  <thead>\n",
       "    <tr style=\"text-align: right;\">\n",
       "      <th></th>\n",
       "      <th>0</th>\n",
       "      <th>1</th>\n",
       "      <th>2</th>\n",
       "      <th>3</th>\n",
       "      <th>4</th>\n",
       "      <th>5</th>\n",
       "      <th>6</th>\n",
       "    </tr>\n",
       "  </thead>\n",
       "  <tbody>\n",
       "    <tr>\n",
       "      <th>count</th>\n",
       "      <td>798.000000</td>\n",
       "      <td>798.000000</td>\n",
       "      <td>798.000000</td>\n",
       "      <td>798.000000</td>\n",
       "      <td>798.000000</td>\n",
       "      <td>798.000000</td>\n",
       "      <td>798.000000</td>\n",
       "    </tr>\n",
       "    <tr>\n",
       "      <th>mean</th>\n",
       "      <td>0.317369</td>\n",
       "      <td>0.671641</td>\n",
       "      <td>0.635688</td>\n",
       "      <td>0.352175</td>\n",
       "      <td>0.591209</td>\n",
       "      <td>0.507335</td>\n",
       "      <td>0.470041</td>\n",
       "    </tr>\n",
       "    <tr>\n",
       "      <th>std</th>\n",
       "      <td>0.110661</td>\n",
       "      <td>0.090869</td>\n",
       "      <td>0.162876</td>\n",
       "      <td>0.142608</td>\n",
       "      <td>0.142461</td>\n",
       "      <td>0.122640</td>\n",
       "      <td>0.117860</td>\n",
       "    </tr>\n",
       "    <tr>\n",
       "      <th>min</th>\n",
       "      <td>0.040359</td>\n",
       "      <td>0.031766</td>\n",
       "      <td>0.174480</td>\n",
       "      <td>0.000282</td>\n",
       "      <td>0.001254</td>\n",
       "      <td>0.015904</td>\n",
       "      <td>0.010062</td>\n",
       "    </tr>\n",
       "    <tr>\n",
       "      <th>25%</th>\n",
       "      <td>0.258151</td>\n",
       "      <td>0.667573</td>\n",
       "      <td>0.545045</td>\n",
       "      <td>0.357026</td>\n",
       "      <td>0.531429</td>\n",
       "      <td>0.432439</td>\n",
       "      <td>0.396137</td>\n",
       "    </tr>\n",
       "    <tr>\n",
       "      <th>50%</th>\n",
       "      <td>0.305178</td>\n",
       "      <td>0.685803</td>\n",
       "      <td>0.625497</td>\n",
       "      <td>0.364650</td>\n",
       "      <td>0.619565</td>\n",
       "      <td>0.493633</td>\n",
       "      <td>0.466793</td>\n",
       "    </tr>\n",
       "    <tr>\n",
       "      <th>75%</th>\n",
       "      <td>0.360525</td>\n",
       "      <td>0.702688</td>\n",
       "      <td>0.749335</td>\n",
       "      <td>0.375342</td>\n",
       "      <td>0.690893</td>\n",
       "      <td>0.570895</td>\n",
       "      <td>0.535680</td>\n",
       "    </tr>\n",
       "    <tr>\n",
       "      <th>max</th>\n",
       "      <td>1.001941</td>\n",
       "      <td>0.782632</td>\n",
       "      <td>0.965611</td>\n",
       "      <td>1.133764</td>\n",
       "      <td>0.897153</td>\n",
       "      <td>0.926988</td>\n",
       "      <td>0.851098</td>\n",
       "    </tr>\n",
       "  </tbody>\n",
       "</table>\n",
       "</div>"
      ],
      "text/plain": [
       "                0           1           2           3           4           5  \\\n",
       "count  798.000000  798.000000  798.000000  798.000000  798.000000  798.000000   \n",
       "mean     0.317369    0.671641    0.635688    0.352175    0.591209    0.507335   \n",
       "std      0.110661    0.090869    0.162876    0.142608    0.142461    0.122640   \n",
       "min      0.040359    0.031766    0.174480    0.000282    0.001254    0.015904   \n",
       "25%      0.258151    0.667573    0.545045    0.357026    0.531429    0.432439   \n",
       "50%      0.305178    0.685803    0.625497    0.364650    0.619565    0.493633   \n",
       "75%      0.360525    0.702688    0.749335    0.375342    0.690893    0.570895   \n",
       "max      1.001941    0.782632    0.965611    1.133764    0.897153    0.926988   \n",
       "\n",
       "                6  \n",
       "count  798.000000  \n",
       "mean     0.470041  \n",
       "std      0.117860  \n",
       "min      0.010062  \n",
       "25%      0.396137  \n",
       "50%      0.466793  \n",
       "75%      0.535680  \n",
       "max      0.851098  "
      ]
     },
     "execution_count": 9,
     "metadata": {},
     "output_type": "execute_result"
    }
   ],
   "source": [
    "test_input_txt = pd.read_table('test_input.txt',header = None)\n",
    "test_input=np.loadtxt('test_input.txt',dtype=np.float32)\n",
    "data_test=pd.DataFrame(test_input)\n",
    "data_test.describe()"
   ]
  },
  {
   "cell_type": "code",
   "execution_count": 10,
   "metadata": {
    "collapsed": false,
    "pycharm": {
     "name": "#%%\n"
    }
   },
   "outputs": [
    {
     "name": "stderr",
     "output_type": "stream",
     "text": [
      "F:\\Python\\lib\\site-packages\\statsmodels\\tsa\\tsatools.py:142: FutureWarning: In a future version of pandas all arguments of concat except for the argument 'objs' will be keyword-only\n",
      "  x = pd.concat(x[::order], 1)\n"
     ]
    },
    {
     "data": {
      "text/plain": [
       "<matplotlib.legend.Legend at 0x16f86f9b970>"
      ]
     },
     "execution_count": 10,
     "metadata": {},
     "output_type": "execute_result"
    },
    {
     "data": {
      "image/png": "[encoded data removed]",
      "text/plain": [
       "<Figure size 576x432 with 1 Axes>"
      ]
     },
     "metadata": {
      "needs_background": "light"
     },
     "output_type": "display_data"
    }
   ],
   "source": [
    "data_test.columns=['A','B','C','D','E','F','G']\n",
    "xx = data_test[['A','B','C','D','E','F','G']]\n",
    "xx=sm.add_constant(xx)\n",
    "xx[np.isnan(xx)] = 0\n",
    "# xx[np.isinf(xx)] = 0\n",
    "from matplotlib import pyplot as plt\n",
    "pls = PLSRegression(n_components=6, tol=0.001)\n",
    "y_test = pls.fit(x,y).predict(xx)\n",
    "fig, ax = plt.subplots(figsize=(8,6))\n",
    "ax.plot(y_test, '-',label='PLSPreD')\n",
    "ax.legend(loc='best')"
   ]
  },
  {
   "cell_type": "code",
   "execution_count": 12,
   "metadata": {
    "collapsed": false,
    "pycharm": {
     "name": "#%%\n"
    }
   },
   "outputs": [],
   "source": [
    "# y_test.to_excel(\"test_pls.xlsx\")\n",
    "y_test = pd.DataFrame(y_test)\n",
    "y_test.index = np.linspace(1,798,798)\n",
    "y_test.to_csv(\"test_pls.csv\")"
   ]
  },
  {
   "cell_type": "code",
   "execution_count": 11,
   "metadata": {
    "collapsed": false,
    "pycharm": {
     "name": "#%%"
    }
   },
   "outputs": [
    {
     "name": "stdout",
     "output_type": "stream",
     "text": [
      "MSE  -> 0.016454615121780987\n",
      "RMSE -> 0.12827554373995453\n"
     ]
    }
   ],
   "source": [
    "# y_fitted, y\n",
    "from sklearn import metrics\n",
    "# data_pre = model.predict(X_test)\n",
    "MSE = metrics.mean_squared_error(y_fitted, y)\n",
    "print(\"MSE  ->\", MSE)\n",
    "RMSE = metrics.mean_squared_error(y_fitted, y)**0.5\n",
    "print(\"RMSE ->\", RMSE)"
   ]
  },
  {
   "cell_type": "code",
   "execution_count": 13,
   "metadata": {},
   "outputs": [],
   "source": [
    "fgnb = pd.read_csv(\"test_pls.csv\", dtype=np.float32)"
   ]
  },
  {
   "cell_type": "code",
   "execution_count": 14,
   "metadata": {},
   "outputs": [
    {
     "name": "stdout",
     "output_type": "stream",
     "text": [
      "Index(['Unnamed: 0', '0'], dtype='object')\n"
     ]
    }
   ],
   "source": [
    "print(fgnb.columns)"
   ]
  },
  {
   "cell_type": "code",
   "execution_count": 16,
   "metadata": {},
   "outputs": [
    {
     "name": "stdout",
     "output_type": "stream",
     "text": [
      "(798,)\n"
     ]
    }
   ],
   "source": [
    "fgnbfgnb = fgnb[fgnb.columns[1]]\n",
    "print(np.shape(fgnbfgnb))"
   ]
  },
  {
   "cell_type": "code",
   "execution_count": 17,
   "metadata": {},
   "outputs": [
    {
     "name": "stdout",
     "output_type": "stream",
     "text": [
      "MSE  -> 5.562758623851902e-17\n",
      "RMSE -> 7.458390324897124e-09\n"
     ]
    }
   ],
   "source": [
    "MSE = metrics.mean_squared_error(fgnbfgnb, y_test)\n",
    "print(\"MSE  ->\", MSE)\n",
    "RMSE = metrics.mean_squared_error(fgnbfgnb, y_test)**0.5\n",
    "print(\"RMSE ->\", RMSE)"
   ]
  }
 ],
 "metadata": {
  "kernelspec": {
   "display_name": "Python 3",
   "language": "python",
   "name": "python3"
  },
  "language_info": {
   "codemirror_mode": {
    "name": "ipython",
    "version": 3
   },
   "file_extension": ".py",
   "mimetype": "text/x-python",
   "name": "python",
   "nbconvert_exporter": "python",
   "pygments_lexer": "ipython3",
   "version": "3.9.7"
  }
 },
 "nbformat": 4,
 "nbformat_minor": 0
}
