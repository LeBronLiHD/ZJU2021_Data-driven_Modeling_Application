{
 "cells": [
  {
   "cell_type": "code",
   "execution_count": 4,
   "metadata": {},
   "outputs": [
    {
     "name": "stdout",
     "output_type": "stream",
     "text": [
      "训练集的维度: (1594, 21)\n",
      "扩展后训练集的维度: (1594, 253)\n"
     ]
    },
    {
     "name": "stderr",
     "output_type": "stream",
     "text": [
      "D:\\Programs\\anaconda\\lib\\site-packages\\xlsxwriter\\workbook.py:336: UserWarning: Calling close() on already closed file.\n",
      "  warn(\"Calling close() on already closed file.\")\n"
     ]
    }
   ],
   "source": [
    "#使用多项式回归对sklearn的逻辑回归进行优化\n",
    "#效果不佳\n",
    "from sklearn.linear_model import LogisticRegression as LR\n",
    "from sklearn.datasets import load_breast_cancer\n",
    "import matplotlib.pyplot as plt\n",
    "from sklearn.model_selection import train_test_split\n",
    "from sklearn.metrics import accuracy_score#精确性分数\n",
    "from sklearn import linear_model\n",
    "import pandas as pd \n",
    "from sklearn.linear_model import LogisticRegression\n",
    "from sklearn.preprocessing import PolynomialFeatures\n",
    "from sklearn.metrics import r2_score\n",
    "from sklearn.model_selection import train_test_split\n",
    "import numpy as np\n",
    "from sklearn.preprocessing import MinMaxScaler\n",
    "x_train=np.loadtxt('train_modify.txt',dtype=np.float64)\n",
    "y_train=np.loadtxt('output_modify.txt',dtype=np.float64)\n",
    "x_test=np.loadtxt('test_modify.txt',dtype=np.float64)\n",
    "# 归一化处理   \n",
    "mm = MinMaxScaler()\n",
    "x_train = mm.fit_transform(x_train)\n",
    "x_test = mm.fit_transform(x_test)\n",
    "poly = PolynomialFeatures(degree=2)\n",
    "\n",
    "print('训练集的维度:',x_train.shape)\n",
    "x_train_poly = poly.fit_transform(x_train)\n",
    "print('扩展后训练集的维度:',x_train_poly.shape)\n",
    "\n",
    "lr = LogisticRegression(penalty='l2',max_iter=10000,tol=1e-20)# 逻辑回归\n",
    "lr.fit(x_train,y_train.astype(str))\n",
    "x_test_poly = poly.fit_transform(x_test) # 多测试集进行扩展，为了进行检测与分数预测\n",
    "# penalty：惩罚项,默认为l2\n",
    "# max_iter: 最大迭代次数\n",
    "# tol：停止求解的标准，float类型，默认为1e-4。就是求解到多少的时候，停止，认为已经求出最优解\n",
    "y_test = lr.predict(x_test)\n",
    "data = pd.DataFrame(y_test)\n",
    "writer = pd.ExcelWriter('lrtest.xlsx')\n",
    "data.to_excel(writer, 'page_1', float_format='%.20f')\t\t# ‘page_1’是写入excel的sheet名\n",
    "writer.save()\n",
    "writer.close()"
   ]
  }
 ],
 "metadata": {
  "interpreter": {
   "hash": "a4464bb7170d84ed3baf15b5ee330259a1ecf9d116382ca07bf1f6bf97c48dc3"
  },
  "kernelspec": {
   "display_name": "Python 3.8.8 64-bit ('base': conda)",
   "language": "python",
   "name": "python3"
  },
  "language_info": {
   "codemirror_mode": {
    "name": "ipython",
    "version": 3
   },
   "file_extension": ".py",
   "mimetype": "text/x-python",
   "name": "python",
   "nbconvert_exporter": "python",
   "pygments_lexer": "ipython3",
   "version": "3.8.8"
  },
  "orig_nbformat": 4
 },
 "nbformat": 4,
 "nbformat_minor": 2
}
