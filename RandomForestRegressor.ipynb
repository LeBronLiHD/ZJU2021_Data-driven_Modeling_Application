{
 "cells": [
  {
   "cell_type": "code",
   "execution_count": 24,
   "metadata": {},
   "outputs": [
    {
     "name": "stdout",
     "output_type": "stream",
     "text": [
      "[0 2 1 3 4 6 5]\n"
     ]
    }
   ],
   "source": [
    "def RandomForest(a,b):\n",
    "    import numpy as np\n",
    "    import pandas as pd\n",
    "    import matplotlib.pyplot as plt\n",
    "    from sklearn.impute import SimpleImputer#填补缺失的类\n",
    "    from sklearn.ensemble import RandomForestRegressor\n",
    "    x_full = a     #x.shape = (506, 13)，共有506个样本，每个样本有13个特征\n",
    "    y_full = b\n",
    "    n_samples = 1596    #样本数量\n",
    "    n_features = 7  #标签数量\n",
    "    x_full = pd.DataFrame(x_full)\n",
    "    x_missing_reg = x_full.copy()\t#随机森林的填补的结果放在x_missing_reg中\n",
    "    \n",
    "    #使用np.argsort将缺失值从少到多进行排序\n",
    "    sortindex = np.argsort(x_missing_reg.isnull().sum(axis=0)).values\n",
    "    print (sortindex)\n",
    "    for i in sortindex:\n",
    "        #构建新特征矩阵（没有被选中去填充的特征+原始的标签）和新标签（被选中去填充的特征）\n",
    "        df = x_missing_reg\n",
    "        fillc = df.iloc[: , i]\n",
    "        df = pd.concat([df.iloc[: , df.columns != i] , pd.DataFrame(y_full)] , axis=1)\n",
    "\n",
    "        #在新特征矩阵中，对含有缺失值的列，进行0的填补\n",
    "        df_0 = SimpleImputer(missing_values=np.nan , strategy=\"constant\" , fill_value=0).fit_transform(df)\n",
    "        \n",
    "        #构建新的训练集和测试集\n",
    "        y_train = fillc[fillc.notnull()]#是被选中要填充的值，存在的那些值，非空值\n",
    "        y_test = fillc[fillc.isnull()]#是被选中的要填充给的值，不存在的那些值，是空值\n",
    "        x_train = df_0[y_train.index,:]#在新特征矩阵中，我们需要非空值所对应的的索引\n",
    "        x_test = df_0[y_test.index,:]#空值所对应的记录\n",
    "        #print(x_test)\n",
    "        #print(y_test)\n",
    "\n",
    "        #用随机森林填补缺失值\n",
    "        rfc = RandomForestRegressor(n_estimators=100)#实例化\n",
    "        rfc = rfc.fit(x_train,y_train)  #导入训练集去进行训练\n",
    "        y_predict = rfc.predict(x_test) #用predict接口将x_test导入，得到我们的预测结果，此结果就是要用来填补空值的\n",
    "        #print(y_predict)\n",
    "        #将填补好的特征返回到我们的原始的特征矩阵中\n",
    "        x_missing_reg.loc[x_missing_reg.iloc[:,i].isnull() , i] = y_predict\n",
    "        #print (x_missing_reg)\n",
    "    return x_missing_reg\n",
    "def seek_strange(data):\n",
    "    #把奇异值标为nan\n",
    "    for i in range(len(data)):\n",
    "        for j in range(len(data[i])):\n",
    "            if (data[i][j]<=0)|(data[i][j]>=1):\n",
    "                data[i][j]=np.nan\n",
    "    return data\n",
    "def datacleaning():\n",
    "    import numpy as np\n",
    "    a=np.loadtxt('./data/Btrain_input.txt',dtype=np.float64)\n",
    "    b=np.loadtxt('./data/Output.txt',dtype=np.float64)\n",
    "    seek_strange(a)\n",
    "    a=RandomForest(a,b)\n",
    "    np.savetxt('train_input.csv',a)\n",
    "datacleaning()\n"
   ]
  }
 ],
 "metadata": {
  "interpreter": {
   "hash": "a4464bb7170d84ed3baf15b5ee330259a1ecf9d116382ca07bf1f6bf97c48dc3"
  },
  "kernelspec": {
   "display_name": "Python 3.8.8 64-bit ('base': conda)",
   "language": "python",
   "name": "python3"
  },
  "language_info": {
   "codemirror_mode": {
    "name": "ipython",
    "version": 3
   },
   "file_extension": ".py",
   "mimetype": "text/x-python",
   "name": "python",
   "nbconvert_exporter": "python",
   "pygments_lexer": "ipython3",
   "version": "3.8.8"
  },
  "orig_nbformat": 4
 },
 "nbformat": 4,
 "nbformat_minor": 2
}
