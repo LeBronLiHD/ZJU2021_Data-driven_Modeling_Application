{
 "cells": [
  {
   "cell_type": "code",
   "execution_count": 82,
   "metadata": {},
   "outputs": [
    {
     "name": "stdout",
     "output_type": "stream",
     "text": [
      "x_train.shape -> (1596, 7)\n",
      "y_train.shape -> (1596,)\n",
      "x_train.shape -> (1593, 15)\n",
      "y_train.shape -> (1593, 1)\n"
     ]
    }
   ],
   "source": [
    "import copy\n",
    "import numpy as np\n",
    "import pandas as pd\n",
    "# 显示所有列\n",
    "pd.set_option('display.max_columns', None)\n",
    "# 显示所有行\n",
    "pd.set_option('display.max_rows', None)\n",
    "#datacleaning()\n",
    "\n",
    "# 读取数据\n",
    "ori_a=np.loadtxt('train_input.csv',dtype=np.float64)\n",
    "b=np.loadtxt('output.txt',dtype=np.float64)\n",
    "\n",
    "def tran_learn(data, label):\n",
    "    # 1 3 5 6 7\n",
    "    new_data = []\n",
    "    for i in range(len(data)):\n",
    "        if i < 3:\n",
    "            continue\n",
    "        new_data_piece = []\n",
    "        for j in range(5):\n",
    "            new_data_piece.append(data[i][j])\n",
    "        for j in range(3):\n",
    "            new_data_piece.append(data[i - j - 1][4])\n",
    "            new_data_piece.append(data[i - j - 1][2])\n",
    "            new_data_piece.append(data[i - j - 1][0])\n",
    "        new_data_piece.append((data[i][5] + data[i][6])/2)\n",
    "        new_data.append(np.array(new_data_piece))\n",
    "    return np.array(new_data), label[3:]\n",
    "\n",
    "\n",
    "\n",
    "print(\"x_train.shape ->\", ori_a.shape)\n",
    "print(\"y_train.shape ->\", b.shape)\n",
    "\n",
    "mode = 1\n",
    "if mode == 1:\n",
    "    b = b[:,np.newaxis]\n",
    "    a, b = tran_learn(ori_a, b)\n",
    "if mode == 2:\n",
    "    b = b[:,np.newaxis]\n",
    "    a[5] =(a[6]+a[5])/2\n",
    "    a = np.delete(a,6,axis=1)\n",
    "\n",
    "print(\"x_train.shape ->\", a.shape)\n",
    "print(\"y_train.shape ->\", b.shape)\n",
    "\n"
   ]
  },
  {
   "cell_type": "code",
   "execution_count": 83,
   "metadata": {},
   "outputs": [
    {
     "name": "stdout",
     "output_type": "stream",
     "text": [
      "(1593, 16)\n"
     ]
    },
    {
     "data": {
      "text/html": [
       "<div>\n",
       "<style scoped>\n",
       "    .dataframe tbody tr th:only-of-type {\n",
       "        vertical-align: middle;\n",
       "    }\n",
       "\n",
       "    .dataframe tbody tr th {\n",
       "        vertical-align: top;\n",
       "    }\n",
       "\n",
       "    .dataframe thead th {\n",
       "        text-align: right;\n",
       "    }\n",
       "</style>\n",
       "<table border=\"1\" class=\"dataframe\">\n",
       "  <thead>\n",
       "    <tr style=\"text-align: right;\">\n",
       "      <th></th>\n",
       "      <th>0</th>\n",
       "      <th>1</th>\n",
       "      <th>2</th>\n",
       "      <th>3</th>\n",
       "      <th>4</th>\n",
       "      <th>5</th>\n",
       "      <th>6</th>\n",
       "      <th>7</th>\n",
       "      <th>8</th>\n",
       "      <th>9</th>\n",
       "      <th>10</th>\n",
       "      <th>11</th>\n",
       "      <th>12</th>\n",
       "      <th>13</th>\n",
       "      <th>14</th>\n",
       "      <th>15</th>\n",
       "    </tr>\n",
       "  </thead>\n",
       "  <tbody>\n",
       "    <tr>\n",
       "      <th>0</th>\n",
       "      <td>0.267451</td>\n",
       "      <td>0.668338</td>\n",
       "      <td>0.808371</td>\n",
       "      <td>0.565689</td>\n",
       "      <td>0.752605</td>\n",
       "      <td>0.764546</td>\n",
       "      <td>0.823618</td>\n",
       "      <td>0.267967</td>\n",
       "      <td>0.776487</td>\n",
       "      <td>0.852153</td>\n",
       "      <td>0.268483</td>\n",
       "      <td>0.784759</td>\n",
       "      <td>0.832742</td>\n",
       "      <td>0.268900</td>\n",
       "      <td>0.792926</td>\n",
       "      <td>0.171640</td>\n",
       "    </tr>\n",
       "    <tr>\n",
       "      <th>1</th>\n",
       "      <td>0.266935</td>\n",
       "      <td>0.647191</td>\n",
       "      <td>0.761948</td>\n",
       "      <td>0.559779</td>\n",
       "      <td>0.745326</td>\n",
       "      <td>0.752605</td>\n",
       "      <td>0.808371</td>\n",
       "      <td>0.267451</td>\n",
       "      <td>0.764546</td>\n",
       "      <td>0.823618</td>\n",
       "      <td>0.267967</td>\n",
       "      <td>0.776487</td>\n",
       "      <td>0.852153</td>\n",
       "      <td>0.268483</td>\n",
       "      <td>0.759632</td>\n",
       "      <td>0.166972</td>\n",
       "    </tr>\n",
       "    <tr>\n",
       "      <th>2</th>\n",
       "      <td>0.266419</td>\n",
       "      <td>0.633665</td>\n",
       "      <td>0.774621</td>\n",
       "      <td>0.555084</td>\n",
       "      <td>0.756059</td>\n",
       "      <td>0.745326</td>\n",
       "      <td>0.761948</td>\n",
       "      <td>0.266935</td>\n",
       "      <td>0.752605</td>\n",
       "      <td>0.808371</td>\n",
       "      <td>0.267451</td>\n",
       "      <td>0.764546</td>\n",
       "      <td>0.823618</td>\n",
       "      <td>0.267967</td>\n",
       "      <td>0.798857</td>\n",
       "      <td>0.163679</td>\n",
       "    </tr>\n",
       "    <tr>\n",
       "      <th>3</th>\n",
       "      <td>0.265904</td>\n",
       "      <td>0.654012</td>\n",
       "      <td>0.774420</td>\n",
       "      <td>0.551762</td>\n",
       "      <td>0.766794</td>\n",
       "      <td>0.756059</td>\n",
       "      <td>0.774621</td>\n",
       "      <td>0.266419</td>\n",
       "      <td>0.745326</td>\n",
       "      <td>0.761948</td>\n",
       "      <td>0.266935</td>\n",
       "      <td>0.752605</td>\n",
       "      <td>0.808371</td>\n",
       "      <td>0.267451</td>\n",
       "      <td>0.836228</td>\n",
       "      <td>0.160249</td>\n",
       "    </tr>\n",
       "    <tr>\n",
       "      <th>4</th>\n",
       "      <td>0.265388</td>\n",
       "      <td>0.672287</td>\n",
       "      <td>0.773997</td>\n",
       "      <td>0.548440</td>\n",
       "      <td>0.761244</td>\n",
       "      <td>0.766794</td>\n",
       "      <td>0.774420</td>\n",
       "      <td>0.265904</td>\n",
       "      <td>0.756059</td>\n",
       "      <td>0.774621</td>\n",
       "      <td>0.266419</td>\n",
       "      <td>0.745326</td>\n",
       "      <td>0.761948</td>\n",
       "      <td>0.266935</td>\n",
       "      <td>0.813842</td>\n",
       "      <td>0.158242</td>\n",
       "    </tr>\n",
       "  </tbody>\n",
       "</table>\n",
       "</div>"
      ],
      "text/plain": [
       "         0         1         2         3         4         5         6   \\\n",
       "0  0.267451  0.668338  0.808371  0.565689  0.752605  0.764546  0.823618   \n",
       "1  0.266935  0.647191  0.761948  0.559779  0.745326  0.752605  0.808371   \n",
       "2  0.266419  0.633665  0.774621  0.555084  0.756059  0.745326  0.761948   \n",
       "3  0.265904  0.654012  0.774420  0.551762  0.766794  0.756059  0.774621   \n",
       "4  0.265388  0.672287  0.773997  0.548440  0.761244  0.766794  0.774420   \n",
       "\n",
       "         7         8         9         10        11        12        13  \\\n",
       "0  0.267967  0.776487  0.852153  0.268483  0.784759  0.832742  0.268900   \n",
       "1  0.267451  0.764546  0.823618  0.267967  0.776487  0.852153  0.268483   \n",
       "2  0.266935  0.752605  0.808371  0.267451  0.764546  0.823618  0.267967   \n",
       "3  0.266419  0.745326  0.761948  0.266935  0.752605  0.808371  0.267451   \n",
       "4  0.265904  0.756059  0.774621  0.266419  0.745326  0.761948  0.266935   \n",
       "\n",
       "         14        15  \n",
       "0  0.792926  0.171640  \n",
       "1  0.759632  0.166972  \n",
       "2  0.798857  0.163679  \n",
       "3  0.836228  0.160249  \n",
       "4  0.813842  0.158242  "
      ]
     },
     "execution_count": 83,
     "metadata": {},
     "output_type": "execute_result"
    }
   ],
   "source": [
    "#按行拼接，训练集输出也是信息\n",
    "values=np.concatenate((a,b),axis=1)\n",
    "#深复制而非浅复制，很有意思的\n",
    "data = copy.deepcopy(values)\n",
    "data = pd.DataFrame(data)\n",
    "def series_to_supervised(data, n_in, n_out):\n",
    "    df = pd.DataFrame(data)\n",
    "    n_vars = df.shape[1]  # n_vars 列数\n",
    "    cols, names = list(), list()\n",
    "\n",
    "    # 时间间隔跨度, 时间点个数，共 n_in 个\n",
    "    # 首先添加当前时刻之前的时间点\n",
    "    for i in range(n_in - 1, 0, -1):\n",
    "        cols.append(df.shift(i))\n",
    "        names += [('var%d(t-%d)' % (j + 1, i)) for j in range(n_vars)]\n",
    "    # 然后添加当前时刻\n",
    "    cols.append(df)\n",
    "    names += [('var%d(t)' % (j + 1)) for j in range(n_vars)]\n",
    "\n",
    "    # 添加 target 为未来 n_out 分钟后时刻的温度\n",
    "    cols.append(df.shift(-n_out))\n",
    "    names += [('var%d(t+%d)' % (j + 1, n_out)) for j in range(n_vars)]\n",
    "\n",
    "    agg = pd.concat(cols, axis=1)\n",
    "    agg.columns = names\n",
    "    # 删除缺失值\n",
    "    agg.dropna(inplace=True)\n",
    "    return agg\n",
    "# 确保所有数据是 float64 类型\n",
    "data = data.astype('float64')\n",
    "print(data.shape)\n",
    "# data\n",
    "data.head()"
   ]
  },
  {
   "cell_type": "code",
   "execution_count": 84,
   "metadata": {
    "collapsed": false,
    "pycharm": {
     "name": "#%%\n"
    }
   },
   "outputs": [],
   "source": [
    "# 构建成监督学习数据集\n",
    "# 比如根据当前时刻及之前100时刻的数据预测下一个时刻\n",
    "# 这实际上是在获取 t - n_in + 1 时刻到 t 时刻共 n_in 个特征和第 t + n_out 时刻目标值\n",
    "number1=50\n",
    "number2=1"
   ]
  },
  {
   "cell_type": "code",
   "execution_count": 92,
   "metadata": {
    "collapsed": false,
    "pycharm": {
     "name": "#%%\n"
    }
   },
   "outputs": [
    {
     "name": "stdout",
     "output_type": "stream",
     "text": [
      "(1543, 816)\n"
     ]
    }
   ],
   "source": [
    "reframed = series_to_supervised(data, number1, number2)\n",
    "reframed.head()\n",
    "print(reframed.shape)\n",
    "# reframed"
   ]
  },
  {
   "cell_type": "code",
   "execution_count": 93,
   "metadata": {
    "collapsed": false,
    "pycharm": {
     "name": "#%%\n"
    }
   },
   "outputs": [],
   "source": [
    "#丢弃我们不想预测的列,这里预测的是最后一列，丢弃其他列\n",
    "if mode == 2:\n",
    "    drop_col = [number1*7, number1*7+1, number1*7+2, number1*7+3, number1*7+4, number1*7+5]\n",
    "    reframed.drop(reframed.columns[drop_col], axis=1, inplace=True)\n",
    "    reframed.head()\n",
    "if mode == 1:\n",
    "    drop_col = [number1*16,   number1*16+1, number1*16+2, \n",
    "                number1*16+3, number1*16+4, number1*16+5, \n",
    "                number1*16+6, number1*16+7, number1*16+8,\n",
    "                number1*16+9, number1*16+10,number1*16+11,\n",
    "                number1*16+12,number1*16+13,number1*16+14,]\n",
    "    reframed.drop(reframed.columns[drop_col], axis=1, inplace=True)\n",
    "    reframed.head()"
   ]
  },
  {
   "cell_type": "code",
   "execution_count": 94,
   "metadata": {
    "collapsed": false,
    "pycharm": {
     "name": "#%%\n"
    }
   },
   "outputs": [
    {
     "name": "stdout",
     "output_type": "stream",
     "text": [
      "(1543, 801)\n"
     ]
    }
   ],
   "source": [
    "# 把数据分为训练集和测试集\n",
    "values = reframed.values\n",
    "print(values.shape)"
   ]
  },
  {
   "cell_type": "code",
   "execution_count": 95,
   "metadata": {
    "collapsed": false,
    "pycharm": {
     "name": "#%%\n"
    }
   },
   "outputs": [
    {
     "name": "stdout",
     "output_type": "stream",
     "text": [
      "训练集数据 shape: (1235, 800)\n",
      "训练集标签 shape: (1235,)\n",
      "测试集数据 shape: (308, 800)\n",
      "测试集标签 shape: (308,)\n"
     ]
    }
   ],
   "source": [
    "test = values[:int(values.shape[0]*0.2), :]\n",
    "train = values[int(values.shape[0]*0.2):, :]\n",
    "\n",
    "# 把数据分为输入和输出\n",
    "train_X, train_y = train[:, :-1], train[:, -1]\n",
    "test_X, test_y = test[:, :-1], test[:, -1]\n",
    "\n",
    "print(\"训练集数据 shape:\", train_X.shape)\n",
    "print(\"训练集标签 shape:\", train_y.shape)\n",
    "print(\"测试集数据 shape:\", test_X.shape)\n",
    "print(\"测试集标签 shape:\", test_y.shape)\n"
   ]
  },
  {
   "cell_type": "code",
   "execution_count": 96,
   "metadata": {},
   "outputs": [
    {
     "name": "stdout",
     "output_type": "stream",
     "text": [
      "训练集数据 shape: (1235, 50, 16)\n",
      "训练集标签 shape: (1235,)\n",
      "测试集数据 shape: (308, 50, 16)\n",
      "测试集标签 shape: (308,)\n"
     ]
    }
   ],
   "source": [
    "# 把输入重塑成符合LSTM输入的3D格式 [样例， 时间步, 特征]\n",
    "\n",
    "if mode == 1:\n",
    "    train_X = train_X.reshape((train_X.shape[0], number1, 16))\n",
    "    test_X = test_X.reshape((test_X.shape[0], number1, 16))\n",
    "if mode == 2:\n",
    "    train_X = train_X.reshape((train_X.shape[0], number1, 7))\n",
    "    test_X = test_X.reshape((test_X.shape[0], number1, 7))\n",
    "\n",
    "print(\"训练集数据 shape:\", train_X.shape)\n",
    "print(\"训练集标签 shape:\", train_y.shape)\n",
    "print(\"测试集数据 shape:\", test_X.shape)\n",
    "print(\"测试集标签 shape:\", test_y.shape)"
   ]
  },
  {
   "cell_type": "code",
   "execution_count": 128,
   "metadata": {
    "collapsed": false,
    "pycharm": {
     "name": "#%%\n"
    }
   },
   "outputs": [],
   "source": [
    "epochs=100\n",
    "batch_size = 32\n",
    "learning_rate = 0.001\n",
    "patience=3"
   ]
  },
  {
   "cell_type": "code",
   "execution_count": 137,
   "metadata": {
    "collapsed": false,
    "pycharm": {
     "name": "#%%\n"
    }
   },
   "outputs": [
    {
     "name": "stdout",
     "output_type": "stream",
     "text": [
      "Model: \"sequential_15\"\n",
      "_________________________________________________________________\n",
      "Layer (type)                 Output Shape              Param #   \n",
      "=================================================================\n",
      "lstm_30 (LSTM)               (None, 50, 64)            20736     \n",
      "_________________________________________________________________\n",
      "activation_15 (Activation)   (None, 50, 64)            0         \n",
      "_________________________________________________________________\n",
      "dropout_28 (Dropout)         (None, 50, 64)            0         \n",
      "_________________________________________________________________\n",
      "lstm_31 (LSTM)               (None, 64)                33024     \n",
      "_________________________________________________________________\n",
      "dropout_29 (Dropout)         (None, 64)                0         \n",
      "_________________________________________________________________\n",
      "dense_32 (Dense)             (None, 32)                2080      \n",
      "_________________________________________________________________\n",
      "dense_33 (Dense)             (None, 32)                1056      \n",
      "_________________________________________________________________\n",
      "dense_34 (Dense)             (None, 1)                 33        \n",
      "=================================================================\n",
      "Total params: 56,929\n",
      "Trainable params: 56,929\n",
      "Non-trainable params: 0\n",
      "_________________________________________________________________\n",
      "Epoch 1/100\n",
      "39/39 [==============================] - 20s 74ms/step - loss: 0.0237 - accuracy: 0.0000e+00 - val_loss: 0.0047 - val_accuracy: 0.0000e+00\n",
      "Epoch 2/100\n",
      "39/39 [==============================] - 3s 74ms/step - loss: 0.0038 - accuracy: 0.0016 - val_loss: 0.0041 - val_accuracy: 0.0000e+00\n",
      "Epoch 3/100\n",
      "39/39 [==============================] - 4s 106ms/step - loss: 0.0022 - accuracy: 0.0016 - val_loss: 0.0021 - val_accuracy: 0.0000e+00\n",
      "Epoch 4/100\n",
      "39/39 [==============================] - 5s 123ms/step - loss: 0.0016 - accuracy: 0.0016 - val_loss: 0.0018 - val_accuracy: 0.0000e+00\n",
      "Epoch 5/100\n",
      "39/39 [==============================] - 4s 105ms/step - loss: 0.0013 - accuracy: 0.0016 - val_loss: 0.0016 - val_accuracy: 0.0000e+00\n",
      "Epoch 6/100\n",
      "39/39 [==============================] - 4s 106ms/step - loss: 0.0015 - accuracy: 0.0016 - val_loss: 0.0020 - val_accuracy: 0.0000e+00\n",
      "Epoch 7/100\n",
      "39/39 [==============================] - 4s 102ms/step - loss: 0.0015 - accuracy: 0.0016 - val_loss: 0.0017 - val_accuracy: 0.0000e+00\n",
      "Epoch 8/100\n",
      "39/39 [==============================] - 5s 123ms/step - loss: 9.7707e-04 - accuracy: 0.0016 - val_loss: 0.0015 - val_accuracy: 0.0000e+00s: 9.7707e-04 - accuracy: 0.00\n",
      "Epoch 9/100\n",
      "39/39 [==============================] - 4s 105ms/step - loss: 8.3132e-04 - accuracy: 0.0016 - val_loss: 0.0015 - val_accuracy: 0.0000e+00\n",
      "Epoch 10/100\n",
      "39/39 [==============================] - 4s 103ms/step - loss: 8.3265e-04 - accuracy: 0.0016 - val_loss: 0.0014 - val_accuracy: 0.0000e+00\n",
      "Epoch 11/100\n",
      "39/39 [==============================] - 4s 102ms/step - loss: 9.0913e-04 - accuracy: 0.0016 - val_loss: 0.0014 - val_accuracy: 0.0000e+00\n",
      "Epoch 12/100\n",
      "39/39 [==============================] - 4s 104ms/step - loss: 7.4392e-04 - accuracy: 0.0016 - val_loss: 0.0015 - val_accuracy: 0.0000e+003e-04 - accuracy: \n",
      "Epoch 13/100\n",
      "39/39 [==============================] - 4s 102ms/step - loss: 6.5114e-04 - accuracy: 0.0016 - val_loss: 0.0013 - val_accuracy: 0.0000e+00\n",
      "Epoch 14/100\n",
      "39/39 [==============================] - 4s 116ms/step - loss: 6.2594e-04 - accuracy: 0.0016 - val_loss: 0.0013 - val_accuracy: 0.0000e+00\n",
      "Epoch 15/100\n",
      "39/39 [==============================] - 4s 90ms/step - loss: 6.8458e-04 - accuracy: 0.0016 - val_loss: 0.0015 - val_accuracy: 0.0000e+00\n",
      "Epoch 16/100\n",
      "39/39 [==============================] - 4s 108ms/step - loss: 6.8163e-04 - accuracy: 0.0016 - val_loss: 0.0014 - val_accuracy: 0.0000e+00\n",
      "Epoch 17/100\n",
      "39/39 [==============================] - 4s 102ms/step - loss: 5.8446e-04 - accuracy: 0.0016 - val_loss: 0.0013 - val_accuracy: 0.0000e+00 - loss: 5.9097e-04 - accuracy: 0. - ETA: 0s - loss: 5.8974e-04 - accura - ETA: 0s - loss: 5.8687e-04 - accuracy: 0.\n",
      "Epoch 18/100\n",
      "39/39 [==============================] - 4s 104ms/step - loss: 5.8173e-04 - accuracy: 0.0016 - val_loss: 0.0013 - val_accuracy: 0.0000e+00\n",
      "Epoch 19/100\n",
      "39/39 [==============================] - 4s 102ms/step - loss: 6.2686e-04 - accuracy: 0.0016 - val_loss: 0.0014 - val_accuracy: 0.0000e+00\n",
      "Epoch 20/100\n",
      "39/39 [==============================] - 4s 100ms/step - loss: 5.6426e-04 - accuracy: 0.0016 - val_loss: 0.0013 - val_accuracy: 0.0000e+00\n",
      "Epoch 21/100\n",
      "39/39 [==============================] - 4s 99ms/step - loss: 5.7577e-04 - accuracy: 0.0016 - val_loss: 0.0013 - val_accuracy: 0.0000e+00\n",
      "Epoch 22/100\n",
      "39/39 [==============================] - 4s 100ms/step - loss: 5.5827e-04 - accuracy: 0.0016 - val_loss: 0.0013 - val_accuracy: 0.0000e+00\n",
      "Epoch 23/100\n",
      "39/39 [==============================] - 4s 105ms/step - loss: 6.0073e-04 - accuracy: 0.0016 - val_loss: 0.0013 - val_accuracy: 0.0000e+00\n",
      "Epoch 24/100\n",
      "39/39 [==============================] - 4s 103ms/step - loss: 6.1017e-04 - accuracy: 0.0016 - val_loss: 0.0013 - val_accuracy: 0.0000e+00\n",
      "Epoch 25/100\n",
      "39/39 [==============================] - 4s 101ms/step - loss: 5.4766e-04 - accuracy: 0.0016 - val_loss: 0.0013 - val_accuracy: 0.0000e+00\n",
      "Epoch 26/100\n",
      "39/39 [==============================] - 4s 106ms/step - loss: 5.5098e-04 - accuracy: 0.0016 - val_loss: 0.0013 - val_accuracy: 0.0000e+00\n",
      "Epoch 27/100\n",
      "39/39 [==============================] - 4s 102ms/step - loss: 5.7610e-04 - accuracy: 0.0016 - val_loss: 0.0013 - val_accuracy: 0.0000e+00\n",
      "Epoch 28/100\n",
      "39/39 [==============================] - 4s 102ms/step - loss: 5.4741e-04 - accuracy: 0.0016 - val_loss: 0.0013 - val_accuracy: 0.0000e+00\n",
      "Epoch 29/100\n",
      "39/39 [==============================] - 4s 101ms/step - loss: 5.4947e-04 - accuracy: 0.0016 - val_loss: 0.0013 - val_accuracy: 0.0000e+00\n",
      "Epoch 30/100\n",
      "39/39 [==============================] - 4s 99ms/step - loss: 5.5778e-04 - accuracy: 0.0016 - val_loss: 0.0013 - val_accuracy: 0.0000e+00\n",
      "Epoch 31/100\n",
      "39/39 [==============================] - 4s 106ms/step - loss: 5.6699e-04 - accuracy: 0.0016 - val_loss: 0.0013 - val_accuracy: 0.0000e+00\n",
      "Epoch 32/100\n",
      "39/39 [==============================] - 4s 97ms/step - loss: 5.9765e-04 - accuracy: 0.0016 - val_loss: 0.0013 - val_accuracy: 0.0000e+00\n",
      "Epoch 33/100\n",
      "39/39 [==============================] - 4s 101ms/step - loss: 5.5751e-04 - accuracy: 0.0016 - val_loss: 0.0013 - val_accuracy: 0.0000e+00\n",
      "Epoch 34/100\n",
      "39/39 [==============================] - 4s 102ms/step - loss: 5.5079e-04 - accuracy: 0.0016 - val_loss: 0.0013 - val_accuracy: 0.0000e+00\n",
      "Epoch 35/100\n",
      "39/39 [==============================] - 4s 102ms/step - loss: 5.3973e-04 - accuracy: 0.0016 - val_loss: 0.0013 - val_accuracy: 0.0000e+00\n",
      "Epoch 36/100\n",
      "39/39 [==============================] - 4s 113ms/step - loss: 5.5180e-04 - accuracy: 0.0016 - val_loss: 0.0013 - val_accuracy: 0.0000e+00\n",
      "Epoch 37/100\n",
      "39/39 [==============================] - 4s 100ms/step - loss: 5.6542e-04 - accuracy: 0.0016 - val_loss: 0.0013 - val_accuracy: 0.0000e+008.\n",
      "Epoch 38/100\n",
      "39/39 [==============================] - 4s 105ms/step - loss: 6.2526e-04 - accuracy: 0.0016 - val_loss: 0.0013 - val_accuracy: 0.0000e+00\n",
      "Epoch 39/100\n",
      "39/39 [==============================] - 5s 129ms/step - loss: 5.8852e-04 - accuracy: 0.0016 - val_loss: 0.0013 - val_accuracy: 0.0000e+00\n",
      "Epoch 40/100\n",
      "39/39 [==============================] - 6s 159ms/step - loss: 5.5666e-04 - accuracy: 0.0016 - val_loss: 0.0013 - val_accuracy: 0.0000e+00\n",
      "Epoch 41/100\n",
      "39/39 [==============================] - 6s 149ms/step - loss: 5.7970e-04 - accuracy: 0.0016 - val_loss: 0.0013 - val_accuracy: 0.0000e+00\n",
      "Epoch 42/100\n",
      "39/39 [==============================] - 5s 119ms/step - loss: 5.8176e-04 - accuracy: 0.0016 - val_loss: 0.0014 - val_accuracy: 0.0000e+00\n",
      "Epoch 43/100\n",
      "39/39 [==============================] - 4s 112ms/step - loss: 5.6121e-04 - accuracy: 0.0016 - val_loss: 0.0013 - val_accuracy: 0.0000e+00\n",
      "Epoch 44/100\n",
      "39/39 [==============================] - 5s 121ms/step - loss: 5.1310e-04 - accuracy: 0.0016 - val_loss: 0.0013 - val_accuracy: 0.0000e+00TA: 0s - loss: 5.1310e-04 - accuracy: 0.00\n",
      "Epoch 45/100\n",
      "39/39 [==============================] - 5s 126ms/step - loss: 5.3760e-04 - accuracy: 0.0016 - val_loss: 0.0013 - val_accuracy: 0.0000e+00\n",
      "Epoch 46/100\n",
      "39/39 [==============================] - 4s 104ms/step - loss: 5.2319e-04 - accuracy: 0.0016 - val_loss: 0.0013 - val_accuracy: 0.0000e+00\n",
      "Epoch 47/100\n",
      "39/39 [==============================] - 4s 106ms/step - loss: 5.7451e-04 - accuracy: 0.0016 - val_loss: 0.0013 - val_accuracy: 0.0000e+00 - loss: 5 - ETA: 0s - loss: 5.5891e-04 - accuracy\n",
      "Epoch 48/100\n",
      "39/39 [==============================] - 4s 101ms/step - loss: 5.1880e-04 - accuracy: 0.0016 - val_loss: 0.0013 - val_accuracy: 0.0000e+00\n",
      "Epoch 49/100\n",
      "39/39 [==============================] - 4s 104ms/step - loss: 6.0572e-04 - accuracy: 0.0016 - val_loss: 0.0013 - val_accuracy: 0.0000e+00\n",
      "Epoch 50/100\n",
      "39/39 [==============================] - 4s 100ms/step - loss: 5.2561e-04 - accuracy: 0.0016 - val_loss: 0.0013 - val_accuracy: 0.0000e+00\n",
      "Epoch 51/100\n",
      "39/39 [==============================] - 4s 104ms/step - loss: 4.9436e-04 - accuracy: 0.0016 - val_loss: 0.0013 - val_accuracy: 0.0000e+00: 0.\n",
      "Epoch 52/100\n",
      "39/39 [==============================] - 4s 101ms/step - loss: 5.4946e-04 - accuracy: 0.0016 - val_loss: 0.0013 - val_accuracy: 0.0000e+00\n",
      "Epoch 53/100\n",
      "39/39 [==============================] - 4s 102ms/step - loss: 5.6868e-04 - accuracy: 0.0016 - val_loss: 0.0013 - val_accuracy: 0.0000e+00\n",
      "Epoch 54/100\n",
      "39/39 [==============================] - 5s 117ms/step - loss: 5.3083e-04 - accuracy: 0.0016 - val_loss: 0.0013 - val_accuracy: 0.0000e+00: 1s -\n",
      "Epoch 55/100\n",
      "39/39 [==============================] - 24s 635ms/step - loss: 5.6363e-04 - accuracy: 0.0016 - val_loss: 0.0013 - val_accuracy: 0.0000e+00\n",
      "Epoch 56/100\n",
      "39/39 [==============================] - 2s 50ms/step - loss: 5.3204e-04 - accuracy: 0.0016 - val_loss: 0.0013 - val_accuracy: 0.0000e+00\n",
      "Epoch 57/100\n",
      "39/39 [==============================] - 2s 47ms/step - loss: 5.0537e-04 - accuracy: 0.0016 - val_loss: 0.0013 - val_accuracy: 0.0000e+00\n",
      "Epoch 58/100\n",
      "39/39 [==============================] - 2s 59ms/step - loss: 5.4123e-04 - accuracy: 0.0016 - val_loss: 0.0013 - val_accuracy: 0.0000e+00\n",
      "Epoch 59/100\n",
      "39/39 [==============================] - 2s 48ms/step - loss: 5.3373e-04 - accuracy: 0.0016 - val_loss: 0.0013 - val_accuracy: 0.0000e+00\n",
      "Epoch 60/100\n",
      "39/39 [==============================] - 2s 51ms/step - loss: 5.6368e-04 - accuracy: 0.0016 - val_loss: 0.0013 - val_accuracy: 0.0000e+00\n",
      "Epoch 61/100\n",
      "39/39 [==============================] - 2s 49ms/step - loss: 5.2445e-04 - accuracy: 0.0016 - val_loss: 0.0013 - val_accuracy: 0.0000e+00\n",
      "Epoch 62/100\n",
      "39/39 [==============================] - 2s 50ms/step - loss: 5.3580e-04 - accuracy: 0.0016 - val_loss: 0.0013 - val_accuracy: 0.0000e+00\n",
      "Epoch 63/100\n",
      "39/39 [==============================] - 2s 50ms/step - loss: 5.9889e-04 - accuracy: 0.0016 - val_loss: 0.0013 - val_accuracy: 0.0000e+00\n",
      "Epoch 64/100\n",
      "39/39 [==============================] - 2s 50ms/step - loss: 5.2508e-04 - accuracy: 0.0016 - val_loss: 0.0013 - val_accuracy: 0.0000e+00\n",
      "Epoch 65/100\n",
      "39/39 [==============================] - 2s 51ms/step - loss: 5.4158e-04 - accuracy: 0.0016 - val_loss: 0.0013 - val_accuracy: 0.0000e+00\n",
      "Epoch 66/100\n",
      "39/39 [==============================] - 2s 51ms/step - loss: 5.0738e-04 - accuracy: 0.0016 - val_loss: 0.0013 - val_accuracy: 0.0000e+00\n",
      "Epoch 67/100\n",
      "39/39 [==============================] - 2s 49ms/step - loss: 5.7587e-04 - accuracy: 0.0016 - val_loss: 0.0013 - val_accuracy: 0.0000e+00\n",
      "Epoch 68/100\n",
      "39/39 [==============================] - 2s 49ms/step - loss: 4.8552e-04 - accuracy: 0.0016 - val_loss: 0.0013 - val_accuracy: 0.0000e+00\n",
      "Epoch 69/100\n",
      "39/39 [==============================] - 2s 50ms/step - loss: 5.3465e-04 - accuracy: 0.0016 - val_loss: 0.0013 - val_accuracy: 0.0000e+00\n",
      "Epoch 70/100\n",
      "39/39 [==============================] - 2s 51ms/step - loss: 5.3377e-04 - accuracy: 0.0016 - val_loss: 0.0013 - val_accuracy: 0.0000e+00\n",
      "Epoch 71/100\n",
      "39/39 [==============================] - 2s 54ms/step - loss: 5.0636e-04 - accuracy: 0.0016 - val_loss: 0.0013 - val_accuracy: 0.0000e+00\n",
      "Epoch 72/100\n",
      "39/39 [==============================] - 2s 50ms/step - loss: 5.2882e-04 - accuracy: 0.0016 - val_loss: 0.0013 - val_accuracy: 0.0000e+00\n",
      "Epoch 73/100\n",
      "39/39 [==============================] - 2s 51ms/step - loss: 5.0461e-04 - accuracy: 0.0016 - val_loss: 0.0013 - val_accuracy: 0.0000e+00\n",
      "Epoch 74/100\n",
      "39/39 [==============================] - 2s 48ms/step - loss: 5.4613e-04 - accuracy: 0.0016 - val_loss: 0.0013 - val_accuracy: 0.0000e+00\n",
      "Epoch 75/100\n",
      "39/39 [==============================] - 2s 51ms/step - loss: 4.7375e-04 - accuracy: 0.0016 - val_loss: 0.0013 - val_accuracy: 0.0000e+00\n",
      "Epoch 76/100\n",
      "39/39 [==============================] - 2s 49ms/step - loss: 5.0682e-04 - accuracy: 0.0016 - val_loss: 0.0013 - val_accuracy: 0.0000e+00\n",
      "Epoch 77/100\n",
      "39/39 [==============================] - 2s 58ms/step - loss: 5.5460e-04 - accuracy: 0.0016 - val_loss: 0.0013 - val_accuracy: 0.0000e+00\n",
      "Epoch 78/100\n",
      "39/39 [==============================] - 2s 46ms/step - loss: 5.0956e-04 - accuracy: 0.0016 - val_loss: 0.0013 - val_accuracy: 0.0000e+00\n",
      "Epoch 79/100\n",
      "39/39 [==============================] - 2s 51ms/step - loss: 5.7394e-04 - accuracy: 0.0016 - val_loss: 0.0013 - val_accuracy: 0.0000e+00\n",
      "Epoch 80/100\n",
      "39/39 [==============================] - 2s 48ms/step - loss: 4.9231e-04 - accuracy: 0.0016 - val_loss: 0.0013 - val_accuracy: 0.0000e+00\n",
      "Epoch 81/100\n",
      "39/39 [==============================] - 2s 50ms/step - loss: 5.3580e-04 - accuracy: 0.0016 - val_loss: 0.0013 - val_accuracy: 0.0000e+00\n",
      "Epoch 82/100\n",
      "39/39 [==============================] - 2s 50ms/step - loss: 5.1788e-04 - accuracy: 0.0016 - val_loss: 0.0013 - val_accuracy: 0.0000e+00\n",
      "Epoch 83/100\n",
      "39/39 [==============================] - 2s 58ms/step - loss: 4.9543e-04 - accuracy: 0.0016 - val_loss: 0.0013 - val_accuracy: 0.0000e+005.1378e-04 - \n",
      "Epoch 84/100\n",
      "39/39 [==============================] - 2s 51ms/step - loss: 5.3656e-04 - accuracy: 0.0016 - val_loss: 0.0013 - val_accuracy: 0.0000e+00\n",
      "Epoch 85/100\n",
      "39/39 [==============================] - 2s 51ms/step - loss: 5.2877e-04 - accuracy: 0.0016 - val_loss: 0.0013 - val_accuracy: 0.0000e+00ccuracy: 0.00\n",
      "Epoch 86/100\n",
      "39/39 [==============================] - 2s 50ms/step - loss: 5.5063e-04 - accuracy: 0.0016 - val_loss: 0.0013 - val_accuracy: 0.0000e+00\n",
      "Epoch 87/100\n",
      "39/39 [==============================] - 2s 51ms/step - loss: 5.1906e-04 - accuracy: 0.0016 - val_loss: 0.0013 - val_accuracy: 0.0000e+00\n",
      "Epoch 88/100\n",
      "39/39 [==============================] - 2s 49ms/step - loss: 4.9682e-04 - accuracy: 0.0016 - val_loss: 0.0013 - val_accuracy: 0.0000e+00\n",
      "Epoch 89/100\n",
      "39/39 [==============================] - 2s 57ms/step - loss: 5.4963e-04 - accuracy: 0.0016 - val_loss: 0.0013 - val_accuracy: 0.0000e+00\n",
      "Epoch 90/100\n",
      "39/39 [==============================] - 2s 51ms/step - loss: 4.9304e-04 - accuracy: 0.0016 - val_loss: 0.0013 - val_accuracy: 0.0000e+00\n",
      "Epoch 91/100\n",
      "39/39 [==============================] - 2s 52ms/step - loss: 5.0262e-04 - accuracy: 0.0016 - val_loss: 0.0013 - val_accuracy: 0.0000e+00\n",
      "Epoch 92/100\n",
      "39/39 [==============================] - 2s 53ms/step - loss: 5.6043e-04 - accuracy: 0.0016 - val_loss: 0.0013 - val_accuracy: 0.0000e+00\n",
      "Epoch 93/100\n",
      "39/39 [==============================] - 2s 53ms/step - loss: 5.2459e-04 - accuracy: 0.0016 - val_loss: 0.0013 - val_accuracy: 0.0000e+00\n",
      "Epoch 94/100\n",
      "39/39 [==============================] - 2s 64ms/step - loss: 5.0232e-04 - accuracy: 0.0016 - val_loss: 0.0013 - val_accuracy: 0.0000e+00\n",
      "Epoch 95/100\n",
      "39/39 [==============================] - 2s 54ms/step - loss: 4.9480e-04 - accuracy: 0.0016 - val_loss: 0.0013 - val_accuracy: 0.0000e+00\n",
      "Epoch 96/100\n",
      "39/39 [==============================] - 2s 58ms/step - loss: 5.1696e-04 - accuracy: 0.0016 - val_loss: 0.0013 - val_accuracy: 0.0000e+00\n",
      "Epoch 97/100\n",
      "39/39 [==============================] - 2s 55ms/step - loss: 4.9034e-04 - accuracy: 0.0016 - val_loss: 0.0013 - val_accuracy: 0.0000e+00\n",
      "Epoch 98/100\n",
      "39/39 [==============================] - 2s 53ms/step - loss: 4.9477e-04 - accuracy: 0.0016 - val_loss: 0.0013 - val_accuracy: 0.0000e+00\n",
      "Epoch 99/100\n",
      "39/39 [==============================] - 2s 62ms/step - loss: 4.9539e-04 - accuracy: 0.0016 - val_loss: 0.0013 - val_accuracy: 0.0000e+00\n",
      "Epoch 100/100\n",
      "39/39 [==============================] - 2s 53ms/step - loss: 4.9085e-04 - accuracy: 0.0016 - val_loss: 0.0013 - val_accuracy: 0.0000e+00\n"
     ]
    }
   ],
   "source": [
    "import math\n",
    "from keras.losses import mean_squared_error\n",
    "from keras.callbacks import ReduceLROnPlateau\n",
    "from keras.optimizer_v2.adam import Adam\n",
    "from matplotlib import pyplot as plt\n",
    "from tensorflow.keras.layers import SimpleRNN\n",
    "from tensorflow.keras.layers import Dense\n",
    "from tensorflow.keras.models import Sequential\n",
    "from keras.layers import Dropout, LSTM, Activation\n",
    "\n",
    "# 搭建lstm网络模型，activation=\"RELU\"\n",
    "model = Sequential()\n",
    "model.add(LSTM(units=64, return_sequences=True, input_shape=(train_X.shape[1], train_X.shape[2])))\n",
    "model.add(Activation(\"relu\"))\n",
    "model.add(Dropout(0.1))\n",
    "model.add(LSTM(units=64, return_sequences=False))\n",
    "model.add(Dropout(0.1))\n",
    "# model.add(SimpleRNN(units=64, return_sequences=False))\n",
    "# model.add(Dropout(0.5))\n",
    "model.add(Dense(32))\n",
    "model.add(Dense(32))\n",
    "# 原本是model.add(Dense(32))\n",
    "model.add(Dense(1))\n",
    "\n",
    "model.compile(loss='mean_squared_error', optimizer=Adam(learning_rate=learning_rate),metrics=['accuracy'])\n",
    "model.summary()\n",
    "\n",
    "\n",
    "lrate = ReduceLROnPlateau(monitor= 'val_loss',min_lr=0.00001,patience=patience,factor=0.5)\n",
    "# 拟合网络，batch_size默认32\n",
    "history = model.fit(train_X,\n",
    "                    train_y,\n",
    "                    epochs = epochs,\n",
    "                    batch_size=batch_size,\n",
    "                    validation_data=(test_X, test_y),\n",
    "                    callbacks=lrate,\n",
    "                    verbose=1,\n",
    "                    shuffle=True)\n",
    "# 保存模型\n",
    "model_path = 'results/LSTM.h5'\n",
    "model.save(model_path)"
   ]
  },
  {
   "cell_type": "code",
   "execution_count": 138,
   "metadata": {
    "collapsed": false,
    "pycharm": {
     "name": "#%%\n"
    }
   },
   "outputs": [
    {
     "data": {
      "image/png": "[encoded data removed]",
      "text/plain": [
       "<Figure size 432x288 with 1 Axes>"
      ]
     },
     "metadata": {
      "needs_background": "light"
     },
     "output_type": "display_data"
    },
    {
     "name": "stdout",
     "output_type": "stream",
     "text": [
      "[0.0013178426306694746, 0.0]\n"
     ]
    }
   ],
   "source": [
    "# 绘制历史数据\n",
    "plt.plot(history.history['loss'], label='train')\n",
    "plt.plot(history.history['val_loss'], label='val')\n",
    "plt.legend()\n",
    "plt.show()\n",
    "# 模型评估\n",
    "score = model.evaluate(test_X, test_y, verbose=0)\n",
    "print(score)\n",
    "# 观察结果"
   ]
  },
  {
   "cell_type": "code",
   "execution_count": 139,
   "metadata": {
    "collapsed": false,
    "pycharm": {
     "name": "#%%\n"
    }
   },
   "outputs": [
    {
     "name": "stdout",
     "output_type": "stream",
     "text": [
      "(308,)\n",
      "(308, 1)\n",
      "(308,)\n"
     ]
    },
    {
     "data": {
      "image/png": "[encoded data removed]",
      "text/plain": [
       "<Figure size 432x288 with 1 Axes>"
      ]
     },
     "metadata": {},
     "output_type": "display_data"
    }
   ],
   "source": [
    "from tensorflow.keras.models import load_model\n",
    "# 加载模型调入测试集尝试一下\n",
    "model = load_model(model_path)\n",
    "\n",
    "predicted_data = model.predict(test_X)\n",
    "print(test_y.shape)\n",
    "print(predicted_data.shape)\n",
    "print(predicted_data[:,0].shape)\n",
    "\n",
    "fig = plt.figure(facecolor='white')\n",
    "ax = fig.add_subplot(211)\n",
    "ax.plot(test_y, label='True Data')\n",
    "ax.plot(predicted_data[:,0], label='Prediction_1')\n",
    "ax.legend()\n",
    "plt.show()"
   ]
  },
  {
   "cell_type": "code",
   "execution_count": 140,
   "metadata": {
    "collapsed": false,
    "pycharm": {
     "name": "#%%\n"
    }
   },
   "outputs": [
    {
     "name": "stdout",
     "output_type": "stream",
     "text": [
      "模型的RMSE:0.036\n"
     ]
    }
   ],
   "source": [
    "pre_1_dim = predicted_data[:,0]\n",
    "rmse = math.sqrt(mean_squared_error(test_y,pre_1_dim))\n",
    "print(\"模型的RMSE:{}\".format(round(rmse,3)))"
   ]
  },
  {
   "cell_type": "code",
   "execution_count": 141,
   "metadata": {
    "pycharm": {
     "name": "#%%\n"
    }
   },
   "outputs": [
    {
     "name": "stdout",
     "output_type": "stream",
     "text": [
      "(1593, 15)\n",
      "(1593, 1)\n",
      "(798, 15)\n",
      "(50, 16)\n",
      "(798, 16)\n"
     ]
    }
   ],
   "source": [
    "def tran_validation(train, test):\n",
    "    new_test = []\n",
    "    for i in range(3):\n",
    "        new_test.append(train[-1 - i])\n",
    "    for i in range(len(test)):\n",
    "        new_test.append(test[i])\n",
    "    labels = [_ for _ in range(len(new_test))]  # hahaha\n",
    "    new_test, labels = tran_learn(np.array(new_test), labels)\n",
    "    return new_test\n",
    "a=np.loadtxt('train_input.csv',dtype=np.float64)\n",
    "# a[5] =(a[6]+a[5])/2\n",
    "# a = np.delete(a,6,axis=1)\n",
    "b=np.loadtxt('output.txt',dtype=np.float64)\n",
    "# b = b[:,np.newaxis]\n",
    "\n",
    "mode = 1\n",
    "if mode == 1:\n",
    "    b = b[:,np.newaxis]\n",
    "    a, b = tran_learn(a, b)\n",
    "if mode == 2:\n",
    "    b = b[:,np.newaxis]\n",
    "    a[5] =(a[6]+a[5])/2\n",
    "    a = np.delete(a,6,axis=1)\n",
    "print(a.shape)\n",
    "print(b.shape)\n",
    "\n",
    "c=np.loadtxt('test_input.csv',dtype=np.float64)\n",
    "if mode == 1:\n",
    "    c = tran_validation(ori_a, c)\n",
    "    print(c.shape)\n",
    "    # c = np.delete(c,9,axis=1)\n",
    "if mode == 2:\n",
    "    c[5] = (c[5]+c[6])/2\n",
    "    c = np.delete(c,6,axis=1)\n",
    "d=np.ones([798,1], dtype = np.float64)\n",
    "\n",
    "values=np.concatenate((a,b),axis=1)\n",
    "values2=np.concatenate((c,d),axis=1)\n",
    "values = values[-number1:,:]\n",
    "print(values.shape)\n",
    "print(values2.shape)"
   ]
  },
  {
   "cell_type": "code",
   "execution_count": 142,
   "metadata": {
    "collapsed": false,
    "pycharm": {
     "name": "#%%\n"
    }
   },
   "outputs": [],
   "source": [
    "# 读取数据输出结果\n",
    "def predict(sequence):\n",
    "    # 数据处理\n",
    "    sequence = sequence.astype('float64')\n",
    "    sequence = np.expand_dims(sequence, 0).repeat(1, axis=0)\n",
    "    # print(sequence.shape)\n",
    "    pre_t = model.predict(sequence)\n",
    "    pre_t = np.float64(pre_t)\n",
    "    return pre_t\n",
    "\n",
    "for i in range(798):\n",
    "    # print(predict(values))\n",
    "    pre=predict(values)\n",
    "    d[i] = pre\n",
    "    # print(d[i])\n",
    "    values = np.delete(values, 0, axis = 0)\n",
    "    values2[i,15]=d[i]\n",
    "    e = values2[i]\n",
    "    e = e[np.newaxis,:]\n",
    "    #print(e.shape)\n",
    "    values=np.concatenate((values,e),axis=0)\n",
    "    #print(values.shape)\n",
    "data = pd.DataFrame(values2)\n",
    "writer = pd.ExcelWriter('results/TESTLSTM.xlsx')\n",
    "data.to_excel(writer, 'page_1', float_format='%.32f')\t\t# ‘page_1’是写入excel的sheet名\n",
    "writer.save()\n",
    "writer.close()"
   ]
  }
 ],
 "metadata": {
  "interpreter": {
   "hash": "a4464bb7170d84ed3baf15b5ee330259a1ecf9d116382ca07bf1f6bf97c48dc3"
  },
  "kernelspec": {
   "display_name": "Python 3.8.8 64-bit ('base': conda)",
   "language": "python",
   "name": "python3"
  },
  "language_info": {
   "codemirror_mode": {
    "name": "ipython",
    "version": 3
   },
   "file_extension": ".py",
   "mimetype": "text/x-python",
   "name": "python",
   "nbconvert_exporter": "python",
   "pygments_lexer": "ipython3",
   "version": "3.9.7"
  },
  "orig_nbformat": 4
 },
 "nbformat": 4,
 "nbformat_minor": 2
}
