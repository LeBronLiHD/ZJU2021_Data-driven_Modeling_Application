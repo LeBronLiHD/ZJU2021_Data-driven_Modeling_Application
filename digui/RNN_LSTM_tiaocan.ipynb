{
 "cells": [
  {
   "cell_type": "code",
   "execution_count": 159,
   "metadata": {},
   "outputs": [],
   "source": [
    "import copy\n",
    "import numpy as np\n",
    "import pandas as pd\n",
    "# 显示所有列\n",
    "pd.set_option('display.max_columns', None)\n",
    "# 显示所有行\n",
    "pd.set_option('display.max_rows', None)\n",
    "#datacleaning()\n",
    "\n",
    "# 读取数据\n",
    "a=np.loadtxt('train_input.csv',dtype=np.float64)\n",
    "b=np.loadtxt('output.txt',dtype=np.float64)\n",
    "b = b[:,np.newaxis]\n",
    "a[5] =(a[6]+a[5])/2\n",
    "a = np.delete(a,6,axis=1)\n",
    "#按行拼接，训练集输出也是信息\n",
    "values=np.concatenate((a,b),axis=1)\n",
    "#深复制而非浅复制，很有意思的\n",
    "data = copy.deepcopy(values)\n",
    "data = pd.DataFrame(data)\n",
    "def series_to_supervised(data, n_in, n_out):\n",
    "    df = pd.DataFrame(data)\n",
    "    n_vars = df.shape[1]  # n_vars 列数\n",
    "    cols, names = list(), list()\n",
    "    \n",
    "    # 时间间隔跨度, 时间点个数，共 n_in 个\n",
    "    # 首先添加当前时刻之前的时间点\n",
    "    for i in range(n_in - 1, 0, -1):\n",
    "        cols.append(df.shift(i))\n",
    "        names += [('var%d(t-%d)' % (j + 1, i)) for j in range(n_vars)]\n",
    "    # 然后添加当前时刻\n",
    "    cols.append(df)\n",
    "    names += [('var%d(t)' % (j + 1)) for j in range(n_vars)]\n",
    "\n",
    "    # 添加 target 为未来 n_out 分钟后时刻的温度\n",
    "    cols.append(df.shift(-n_out))\n",
    "    names += [('var%d(t+%d)' % (j + 1, n_out)) for j in range(n_vars)]\n",
    "\n",
    "    agg = pd.concat(cols, axis=1)\n",
    "    agg.columns = names\n",
    "    # 删除缺失值\n",
    "    agg.dropna(inplace=True)\n",
    "    return agg\n",
    "# 确保所有数据是 float64 类型\n",
    "data = data.astype('float64')\n",
    "# data"
   ]
  },
  {
   "cell_type": "code",
   "execution_count": 160,
   "outputs": [],
   "source": [
    "# 构建成监督学习数据集\n",
    "# 比如根据当前时刻及之前100时刻的数据预测下一个时刻\n",
    "# 这实际上是在获取 t - n_in + 1 时刻到 t 时刻共 n_in 个特征和第 t + n_out 时刻目标值\n",
    "number1=30\n",
    "number2=1"
   ],
   "metadata": {
    "collapsed": false,
    "pycharm": {
     "name": "#%%\n"
    }
   }
  },
  {
   "cell_type": "code",
   "execution_count": 161,
   "outputs": [
    {
     "name": "stdout",
     "output_type": "stream",
     "text": [
      "(1566, 217)\n"
     ]
    }
   ],
   "source": [
    "reframed = series_to_supervised(data, number1, number2)\n",
    "reframed.head()\n",
    "print(reframed.shape)\n",
    "# reframed"
   ],
   "metadata": {
    "collapsed": false,
    "pycharm": {
     "name": "#%%\n"
    }
   }
  },
  {
   "cell_type": "code",
   "execution_count": 162,
   "outputs": [],
   "source": [
    "#丢弃我们不想预测的列,这里预测的是最后一列，丢弃其他列\n",
    "drop_col = [number1*7, number1*7+1, number1*7+2, number1*7+3, number1*7+4, number1*7+5]\n",
    "reframed.drop(reframed.columns[drop_col], axis=1, inplace=True)\n",
    "# reframed.head()"
   ],
   "metadata": {
    "collapsed": false,
    "pycharm": {
     "name": "#%%\n"
    }
   }
  },
  {
   "cell_type": "code",
   "execution_count": 163,
   "outputs": [
    {
     "name": "stdout",
     "output_type": "stream",
     "text": [
      "(1566, 211)\n"
     ]
    }
   ],
   "source": [
    "# 把数据分为训练集和测试集\n",
    "values = reframed.values\n",
    "print(values.shape)"
   ],
   "metadata": {
    "collapsed": false,
    "pycharm": {
     "name": "#%%\n"
    }
   }
  },
  {
   "cell_type": "code",
   "execution_count": 164,
   "outputs": [
    {
     "name": "stdout",
     "output_type": "stream",
     "text": [
      "训练集数据 shape: (1253, 30, 7)\n",
      "训练集标签 shape: (1253,)\n",
      "测试集数据 shape: (313, 30, 7)\n",
      "测试集标签 shape: (313,)\n"
     ]
    }
   ],
   "source": [
    "test = values[:int(values.shape[0]*0.2), :]\n",
    "train = values[int(values.shape[0]*0.2):, :]\n",
    "\n",
    "# 把数据分为输入和输出\n",
    "train_X, train_y = train[:, :-1], train[:, -1]\n",
    "test_X, test_y = test[:, :-1], test[:, -1]\n",
    "\n",
    "# 把输入重塑成符合LSTM输入的3D格式 [样例， 时间步, 特征]\n",
    "train_X = train_X.reshape((train_X.shape[0], number1, 7))\n",
    "test_X = test_X.reshape((test_X.shape[0], number1, 7))\n",
    "\n",
    "print(\"训练集数据 shape:\", train_X.shape)\n",
    "print(\"训练集标签 shape:\", train_y.shape)\n",
    "print(\"测试集数据 shape:\", test_X.shape)\n",
    "print(\"测试集标签 shape:\", test_y.shape)"
   ],
   "metadata": {
    "collapsed": false,
    "pycharm": {
     "name": "#%%\n"
    }
   }
  },
  {
   "cell_type": "code",
   "execution_count": 165,
   "outputs": [],
   "source": [
    "epochs=50\n",
    "batch_size = 32\n",
    "learning_rate = 0.001\n",
    "patience=3"
   ],
   "metadata": {
    "collapsed": false,
    "pycharm": {
     "name": "#%%\n"
    }
   }
  },
  {
   "cell_type": "code",
   "execution_count": 166,
   "outputs": [
    {
     "name": "stdout",
     "output_type": "stream",
     "text": [
      "Model: \"sequential_10\"\n",
      "_________________________________________________________________\n",
      "Layer (type)                 Output Shape              Param #   \n",
      "=================================================================\n",
      "lstm_20 (LSTM)               (None, 30, 128)           69632     \n",
      "_________________________________________________________________\n",
      "activation_10 (Activation)   (None, 30, 128)           0         \n",
      "_________________________________________________________________\n",
      "dropout_8 (Dropout)          (None, 30, 128)           0         \n",
      "_________________________________________________________________\n",
      "lstm_21 (LSTM)               (None, 64)                49408     \n",
      "_________________________________________________________________\n",
      "dropout_9 (Dropout)          (None, 64)                0         \n",
      "_________________________________________________________________\n",
      "dense_20 (Dense)             (None, 32)                2080      \n",
      "_________________________________________________________________\n",
      "dense_21 (Dense)             (None, 1)                 33        \n",
      "=================================================================\n",
      "Total params: 121,153\n",
      "Trainable params: 121,153\n",
      "Non-trainable params: 0\n",
      "_________________________________________________________________\n",
      "Epoch 1/50\n",
      "40/40 [==============================] - 3s 37ms/step - loss: 0.0154 - accuracy: 7.9808e-04 - val_loss: 0.0102 - val_accuracy: 0.0000e+00\n",
      "Epoch 2/50\n",
      "40/40 [==============================] - 1s 28ms/step - loss: 0.0055 - accuracy: 0.0016 - val_loss: 0.0022 - val_accuracy: 0.0000e+00\n",
      "Epoch 3/50\n",
      "40/40 [==============================] - 1s 26ms/step - loss: 0.0034 - accuracy: 0.0016 - val_loss: 0.0015 - val_accuracy: 0.0000e+00\n",
      "Epoch 4/50\n",
      "40/40 [==============================] - 1s 26ms/step - loss: 0.0024 - accuracy: 0.0016 - val_loss: 0.0015 - val_accuracy: 0.0000e+00\n",
      "Epoch 5/50\n",
      "40/40 [==============================] - 1s 26ms/step - loss: 0.0025 - accuracy: 0.0016 - val_loss: 0.0018 - val_accuracy: 0.0000e+00\n",
      "Epoch 6/50\n",
      "40/40 [==============================] - 1s 26ms/step - loss: 0.0018 - accuracy: 0.0016 - val_loss: 0.0015 - val_accuracy: 0.0000e+00\n",
      "Epoch 7/50\n",
      "40/40 [==============================] - 1s 26ms/step - loss: 0.0017 - accuracy: 0.0016 - val_loss: 0.0014 - val_accuracy: 0.0000e+00\n",
      "Epoch 8/50\n",
      "40/40 [==============================] - 1s 26ms/step - loss: 0.0016 - accuracy: 0.0016 - val_loss: 0.0022 - val_accuracy: 0.0000e+00\n",
      "Epoch 9/50\n",
      "40/40 [==============================] - 1s 26ms/step - loss: 0.0014 - accuracy: 0.0016 - val_loss: 0.0015 - val_accuracy: 0.0000e+00\n",
      "Epoch 10/50\n",
      "40/40 [==============================] - 1s 26ms/step - loss: 0.0015 - accuracy: 0.0016 - val_loss: 0.0013 - val_accuracy: 0.0000e+00\n",
      "Epoch 11/50\n",
      "40/40 [==============================] - 1s 26ms/step - loss: 0.0012 - accuracy: 0.0016 - val_loss: 0.0016 - val_accuracy: 0.0000e+00\n",
      "Epoch 12/50\n",
      "40/40 [==============================] - 1s 26ms/step - loss: 0.0013 - accuracy: 0.0016 - val_loss: 0.0014 - val_accuracy: 0.0000e+00\n",
      "Epoch 13/50\n",
      "40/40 [==============================] - 1s 26ms/step - loss: 0.0013 - accuracy: 0.0016 - val_loss: 0.0015 - val_accuracy: 0.0000e+00\n",
      "Epoch 14/50\n",
      "40/40 [==============================] - 1s 26ms/step - loss: 0.0011 - accuracy: 0.0016 - val_loss: 0.0015 - val_accuracy: 0.0000e+00\n",
      "Epoch 15/50\n",
      "40/40 [==============================] - 1s 26ms/step - loss: 0.0012 - accuracy: 0.0016 - val_loss: 0.0013 - val_accuracy: 0.0000e+00\n",
      "Epoch 16/50\n",
      "40/40 [==============================] - 1s 26ms/step - loss: 0.0012 - accuracy: 0.0016 - val_loss: 0.0013 - val_accuracy: 0.0000e+00\n",
      "Epoch 17/50\n",
      "40/40 [==============================] - 1s 26ms/step - loss: 0.0012 - accuracy: 0.0016 - val_loss: 0.0014 - val_accuracy: 0.0000e+00\n",
      "Epoch 18/50\n",
      "40/40 [==============================] - 1s 27ms/step - loss: 0.0010 - accuracy: 0.0016 - val_loss: 0.0014 - val_accuracy: 0.0000e+00\n",
      "Epoch 19/50\n",
      "40/40 [==============================] - 1s 26ms/step - loss: 0.0011 - accuracy: 0.0016 - val_loss: 0.0014 - val_accuracy: 0.0000e+00\n",
      "Epoch 20/50\n",
      "40/40 [==============================] - 1s 30ms/step - loss: 0.0011 - accuracy: 0.0016 - val_loss: 0.0014 - val_accuracy: 0.0000e+00\n",
      "Epoch 21/50\n",
      "40/40 [==============================] - 1s 30ms/step - loss: 9.3411e-04 - accuracy: 0.0016 - val_loss: 0.0014 - val_accuracy: 0.0000e+00\n",
      "Epoch 22/50\n",
      "40/40 [==============================] - 1s 30ms/step - loss: 0.0010 - accuracy: 0.0016 - val_loss: 0.0014 - val_accuracy: 0.0000e+00\n",
      "Epoch 23/50\n",
      "40/40 [==============================] - 1s 31ms/step - loss: 9.8016e-04 - accuracy: 0.0016 - val_loss: 0.0013 - val_accuracy: 0.0000e+00\n",
      "Epoch 24/50\n",
      "40/40 [==============================] - 1s 31ms/step - loss: 0.0010 - accuracy: 0.0016 - val_loss: 0.0013 - val_accuracy: 0.0000e+00\n",
      "Epoch 25/50\n",
      "40/40 [==============================] - 1s 31ms/step - loss: 0.0011 - accuracy: 0.0016 - val_loss: 0.0013 - val_accuracy: 0.0000e+00\n",
      "Epoch 26/50\n",
      "40/40 [==============================] - 1s 30ms/step - loss: 0.0011 - accuracy: 0.0016 - val_loss: 0.0013 - val_accuracy: 0.0000e+00\n",
      "Epoch 27/50\n",
      "40/40 [==============================] - 1s 30ms/step - loss: 0.0011 - accuracy: 0.0016 - val_loss: 0.0013 - val_accuracy: 0.0000e+00\n",
      "Epoch 28/50\n",
      "40/40 [==============================] - 1s 30ms/step - loss: 9.8379e-04 - accuracy: 0.0016 - val_loss: 0.0013 - val_accuracy: 0.0000e+00\n",
      "Epoch 29/50\n",
      "40/40 [==============================] - 1s 31ms/step - loss: 0.0012 - accuracy: 0.0016 - val_loss: 0.0013 - val_accuracy: 0.0000e+00\n",
      "Epoch 30/50\n",
      "40/40 [==============================] - 1s 31ms/step - loss: 9.2708e-04 - accuracy: 0.0016 - val_loss: 0.0013 - val_accuracy: 0.0000e+00\n",
      "Epoch 31/50\n",
      "40/40 [==============================] - 1s 31ms/step - loss: 9.9678e-04 - accuracy: 0.0016 - val_loss: 0.0013 - val_accuracy: 0.0000e+00\n",
      "Epoch 32/50\n",
      "40/40 [==============================] - 1s 31ms/step - loss: 9.9928e-04 - accuracy: 0.0016 - val_loss: 0.0013 - val_accuracy: 0.0000e+00\n",
      "Epoch 33/50\n",
      "40/40 [==============================] - 1s 31ms/step - loss: 0.0011 - accuracy: 0.0016 - val_loss: 0.0013 - val_accuracy: 0.0000e+00\n",
      "Epoch 34/50\n",
      "40/40 [==============================] - 1s 30ms/step - loss: 0.0011 - accuracy: 0.0016 - val_loss: 0.0013 - val_accuracy: 0.0000e+00\n",
      "Epoch 35/50\n",
      "40/40 [==============================] - 1s 30ms/step - loss: 0.0012 - accuracy: 0.0016 - val_loss: 0.0013 - val_accuracy: 0.0000e+00\n",
      "Epoch 36/50\n",
      "40/40 [==============================] - 1s 30ms/step - loss: 0.0012 - accuracy: 0.0016 - val_loss: 0.0013 - val_accuracy: 0.0000e+00\n",
      "Epoch 37/50\n",
      "40/40 [==============================] - 1s 30ms/step - loss: 0.0011 - accuracy: 0.0016 - val_loss: 0.0013 - val_accuracy: 0.0000e+00\n",
      "Epoch 38/50\n",
      "40/40 [==============================] - 1s 30ms/step - loss: 9.1399e-04 - accuracy: 0.0016 - val_loss: 0.0013 - val_accuracy: 0.0000e+00\n",
      "Epoch 39/50\n",
      "40/40 [==============================] - 1s 30ms/step - loss: 0.0010 - accuracy: 0.0016 - val_loss: 0.0013 - val_accuracy: 0.0000e+00\n",
      "Epoch 40/50\n",
      "40/40 [==============================] - 1s 30ms/step - loss: 0.0010 - accuracy: 0.0016 - val_loss: 0.0013 - val_accuracy: 0.0000e+00\n",
      "Epoch 41/50\n",
      "40/40 [==============================] - 1s 30ms/step - loss: 0.0011 - accuracy: 0.0016 - val_loss: 0.0013 - val_accuracy: 0.0000e+00\n",
      "Epoch 42/50\n",
      "40/40 [==============================] - 1s 31ms/step - loss: 0.0012 - accuracy: 0.0016 - val_loss: 0.0013 - val_accuracy: 0.0000e+00\n",
      "Epoch 43/50\n",
      "40/40 [==============================] - 1s 30ms/step - loss: 9.8332e-04 - accuracy: 0.0016 - val_loss: 0.0013 - val_accuracy: 0.0000e+00\n",
      "Epoch 44/50\n",
      "40/40 [==============================] - 1s 30ms/step - loss: 0.0012 - accuracy: 0.0016 - val_loss: 0.0013 - val_accuracy: 0.0000e+00\n",
      "Epoch 45/50\n",
      "40/40 [==============================] - 1s 30ms/step - loss: 9.9201e-04 - accuracy: 0.0016 - val_loss: 0.0013 - val_accuracy: 0.0000e+00\n",
      "Epoch 46/50\n",
      "40/40 [==============================] - 1s 30ms/step - loss: 0.0010 - accuracy: 0.0016 - val_loss: 0.0013 - val_accuracy: 0.0000e+00\n",
      "Epoch 47/50\n",
      "40/40 [==============================] - 1s 30ms/step - loss: 0.0011 - accuracy: 0.0016 - val_loss: 0.0013 - val_accuracy: 0.0000e+00\n",
      "Epoch 48/50\n",
      "40/40 [==============================] - 1s 30ms/step - loss: 9.2843e-04 - accuracy: 0.0016 - val_loss: 0.0013 - val_accuracy: 0.0000e+00\n",
      "Epoch 49/50\n",
      "40/40 [==============================] - 1s 30ms/step - loss: 0.0010 - accuracy: 0.0016 - val_loss: 0.0013 - val_accuracy: 0.0000e+00\n",
      "Epoch 50/50\n",
      "40/40 [==============================] - 1s 31ms/step - loss: 9.7398e-04 - accuracy: 0.0016 - val_loss: 0.0013 - val_accuracy: 0.0000e+00\n"
     ]
    }
   ],
   "source": [
    "import math\n",
    "from keras.losses import mean_squared_error\n",
    "from keras.callbacks import ReduceLROnPlateau\n",
    "from keras.optimizer_v2.adam import Adam\n",
    "from matplotlib import pyplot as plt\n",
    "from tensorflow.keras.layers import SimpleRNN\n",
    "from tensorflow.keras.layers import Dense\n",
    "from tensorflow.keras.models import Sequential\n",
    "from keras.layers import Dropout, LSTM, Activation\n",
    "\n",
    "# 搭建lstm网络模型，activation=\"RELU\"\n",
    "model = Sequential()\n",
    "model.add(LSTM(units=128, return_sequences=True, input_shape=(train_X.shape[1], train_X.shape[2])))\n",
    "model.add(Activation(\"relu\"))\n",
    "model.add(Dropout(0.5))\n",
    "model.add(LSTM(units=64, return_sequences=False))\n",
    "model.add(Dropout(0.5))\n",
    "# model.add(SimpleRNN(units=64, return_sequences=False))\n",
    "# model.add(Dropout(0.5))\n",
    "model.add(Dense(32))\n",
    "# 原本是model.add(Dense(32))\n",
    "model.add(Dense(1))\n",
    "\n",
    "model.compile(loss='mean_squared_error', optimizer=Adam(learning_rate=learning_rate),metrics=['accuracy'])\n",
    "model.summary()\n",
    "\n",
    "\n",
    "lrate = ReduceLROnPlateau(monitor= 'val_loss',min_lr=0.00001,patience=patience,factor=0.5)\n",
    "# 拟合网络，batch_size默认32\n",
    "history = model.fit(train_X,\n",
    "                    train_y,\n",
    "                    epochs = epochs,\n",
    "                    batch_size=batch_size,\n",
    "                    validation_data=(test_X, test_y),\n",
    "                    callbacks=lrate,\n",
    "                    verbose=1,\n",
    "                    shuffle=True)\n",
    "# 保存模型\n",
    "model.save('results/LSTM_tiaocan.h5')"
   ],
   "metadata": {
    "collapsed": false,
    "pycharm": {
     "name": "#%%\n"
    }
   }
  },
  {
   "cell_type": "code",
   "execution_count": 167,
   "outputs": [
    {
     "data": {
      "text/plain": "<Figure size 432x288 with 1 Axes>",
      "image/png": "[encoded data removed]"
     },
     "metadata": {
      "needs_background": "light"
     },
     "output_type": "display_data"
    },
    {
     "name": "stdout",
     "output_type": "stream",
     "text": [
      "[0.001329778810031712, 0.0]\n"
     ]
    }
   ],
   "source": [
    "# 绘制历史数据\n",
    "plt.plot(history.history['loss'], label='train')\n",
    "plt.plot(history.history['val_loss'], label='val')\n",
    "plt.legend()\n",
    "plt.show()\n",
    "# 模型评估\n",
    "score = model.evaluate(test_X, test_y, verbose=0)\n",
    "print(score)\n",
    "# 观察结果"
   ],
   "metadata": {
    "collapsed": false,
    "pycharm": {
     "name": "#%%\n"
    }
   }
  },
  {
   "cell_type": "code",
   "execution_count": 168,
   "metadata": {},
   "outputs": [
    {
     "name": "stdout",
     "output_type": "stream",
     "text": [
      "(313,)\n",
      "(313, 1)\n",
      "(313,)\n"
     ]
    }
   ],
   "source": [
    "from tensorflow.keras.models import load_model\n",
    "# 加载模型调入测试集尝试一下\n",
    "model_path = 'results/LSTM_tiaocan.h5'\n",
    "model = load_model(model_path)\n",
    "\n",
    "predicted_data = model.predict(test_X)\n",
    "print(test_y.shape)\n",
    "print(predicted_data.shape)\n",
    "print(predicted_data[:,0].shape)\n",
    "# predicted_data"
   ]
  },
  {
   "cell_type": "code",
   "execution_count": 169,
   "outputs": [
    {
     "data": {
      "text/plain": "<Figure size 432x288 with 1 Axes>",
      "image/png": "[encoded data removed]"
     },
     "metadata": {},
     "output_type": "display_data"
    }
   ],
   "source": [
    "fig = plt.figure(facecolor='white')\n",
    "ax = fig.add_subplot(211)\n",
    "ax.plot(test_y, label='True Data')\n",
    "ax.plot(predicted_data[:,0], label='Prediction_1')\n",
    "ax.legend()\n",
    "plt.show()"
   ],
   "metadata": {
    "collapsed": false,
    "pycharm": {
     "name": "#%%\n"
    }
   }
  },
  {
   "cell_type": "code",
   "execution_count": 170,
   "outputs": [],
   "source": [
    "pre_1_dim = predicted_data[:,0]"
   ],
   "metadata": {
    "collapsed": false,
    "pycharm": {
     "name": "#%%\n"
    }
   }
  },
  {
   "cell_type": "code",
   "execution_count": 171,
   "outputs": [
    {
     "name": "stdout",
     "output_type": "stream",
     "text": [
      "模型的RMSE:0.036\n"
     ]
    }
   ],
   "source": [
    "rmse = math.sqrt(mean_squared_error(test_y,pre_1_dim))\n",
    "print(\"模型的RMSE:{}\".format(round(rmse,3)))"
   ],
   "metadata": {
    "collapsed": false,
    "pycharm": {
     "name": "#%%\n"
    }
   }
  },
  {
   "cell_type": "code",
   "execution_count": 172,
   "metadata": {
    "pycharm": {
     "name": "#%%\n"
    }
   },
   "outputs": [
    {
     "name": "stdout",
     "output_type": "stream",
     "text": [
      "(30, 7)\n",
      "(798, 7)\n"
     ]
    }
   ],
   "source": [
    "# 读取数据输出结果\n",
    "def predict(sequence):\n",
    "    # 数据处理\n",
    "    sequence = sequence.astype('float64')\n",
    "    sequence = np.expand_dims(sequence, 0).repeat(1, axis=0)\n",
    "    # print(sequence.shape)\n",
    "    pre_t = model.predict(sequence)\n",
    "    pre_t = np.float64(pre_t)\n",
    "    return pre_t\n",
    "\n",
    "a=np.loadtxt('train_input.csv',dtype=np.float64)\n",
    "a[5] =(a[6]+a[5])/2\n",
    "a = np.delete(a,6,axis=1)\n",
    "b=np.loadtxt('output.txt',dtype=np.float64)\n",
    "b = b[:,np.newaxis]\n",
    "\n",
    "c=np.loadtxt('test_input.csv',dtype=np.float64)\n",
    "c[5] = (c[5]+c[6])/2\n",
    "c = np.delete(c,6,axis=1)\n",
    "d=np.ones([798,1], dtype = np.float64)\n",
    "\n",
    "values=np.concatenate((a,b),axis=1)\n",
    "values2=np.concatenate((c,d),axis=1)\n",
    "values = values[-number1:,:]\n",
    "print(values.shape)\n",
    "print(values2.shape)"
   ]
  },
  {
   "cell_type": "code",
   "execution_count": 173,
   "outputs": [],
   "source": [
    "for i in range(798):\n",
    "    # print(predict(values))\n",
    "    pre=predict(values)\n",
    "    d[i] = pre\n",
    "    # print(d[i])\n",
    "    values = np.delete(values, 0, axis = 0)\n",
    "    values2[i,6]=d[i]\n",
    "    e = values2[i]\n",
    "    e = e[np.newaxis,:]\n",
    "    #print(e.shape)\n",
    "    values=np.concatenate((values,e),axis=0)\n",
    "    #print(values.shape)\n",
    "data = pd.DataFrame(values2)\n",
    "writer = pd.ExcelWriter('results/TESTLSTM.xlsx')\n",
    "data.to_excel(writer, 'page_1', float_format='%.32f')\t\t# ‘page_1’是写入excel的sheet名\n",
    "writer.save()\n",
    "writer.close()"
   ],
   "metadata": {
    "collapsed": false,
    "pycharm": {
     "name": "#%%\n"
    }
   }
  }
 ],
 "metadata": {
  "interpreter": {
   "hash": "a4464bb7170d84ed3baf15b5ee330259a1ecf9d116382ca07bf1f6bf97c48dc3"
  },
  "kernelspec": {
   "display_name": "Python 3.8.8 64-bit ('base': conda)",
   "language": "python",
   "name": "python3"
  },
  "language_info": {
   "codemirror_mode": {
    "name": "ipython",
    "version": 3
   },
   "file_extension": ".py",
   "mimetype": "text/x-python",
   "name": "python",
   "nbconvert_exporter": "python",
   "pygments_lexer": "ipython3",
   "version": "3.8.8"
  },
  "orig_nbformat": 4
 },
 "nbformat": 4,
 "nbformat_minor": 2
}