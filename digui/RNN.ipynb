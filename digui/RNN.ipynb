{
 "cells": [
  {
   "cell_type": "code",
   "execution_count": null,
   "metadata": {
    "pycharm": {
     "is_executing": true
    }
   },
   "outputs": [],
   "source": [
    "import copy\n",
    "import numpy as np\n",
    "import pandas as pd\n",
    "# 显示所有列\n",
    "pd.set_option('display.max_columns', None)\n",
    "# 显示所有行\n",
    "pd.set_option('display.max_rows', None)\n",
    "#datacleaning()\n",
    "\n",
    "# 读取数据\n",
    "a=np.loadtxt('train_input.csv',dtype=np.float64)\n",
    "b=np.loadtxt('output.txt',dtype=np.float64)\n",
    "b = b[:,np.newaxis]\n",
    "#按行拼接，训练集输出也是信息\n",
    "values=np.concatenate((a,b),axis=1)\n",
    "#深复制而非浅复制，很有意思的\n",
    "data = copy.deepcopy(values)\n",
    "data = pd.DataFrame(data)\n",
    "def series_to_supervised(data, n_in, n_out):\n",
    "    df = pd.DataFrame(data)\n",
    "    n_vars = df.shape[1]  # n_vars 列数\n",
    "    cols, names = list(), list()\n",
    "    \n",
    "    # 时间间隔跨度, 时间点个数，共 n_in 个\n",
    "    # 首先添加当前时刻之前的时间点\n",
    "    for i in range(n_in - 1, 0, -1):\n",
    "        cols.append(df.shift(i))\n",
    "        names += [('var%d(t-%d)' % (j + 1, i)) for j in range(n_vars)]\n",
    "    # 然后添加当前时刻\n",
    "    cols.append(df)\n",
    "    names += [('var%d(t)' % (j + 1)) for j in range(n_vars)]\n",
    "\n",
    "    # 添加 target 为未来 n_out 分钟后时刻的温度\n",
    "    cols.append(df.shift(-n_out))\n",
    "    names += [('var%d(t+%d)' % (j + 1, n_out)) for j in range(n_vars)]\n",
    "\n",
    "    agg = pd.concat(cols, axis=1)\n",
    "    agg.columns = names\n",
    "    # 删除缺失值\n",
    "    agg.dropna(inplace=True)\n",
    "    return agg\n",
    "# 确保所有数据是 float64 类型\n",
    "data = data.astype('float64')\n",
    "data"
   ]
  },
  {
   "cell_type": "code",
   "execution_count": null,
   "outputs": [],
   "source": [
    "# 构建成监督学习数据集\n",
    "# 比如根据当前时刻及之前100时刻的数据预测下一个时刻\n",
    "# 这实际上是在获取 t - n_in + 1 时刻到 t 时刻共 n_in 个特征和第 t + n_out 时刻目标值\n",
    "number1=100\n",
    "number2=1"
   ],
   "metadata": {
    "collapsed": false,
    "pycharm": {
     "name": "#%%\n",
     "is_executing": true
    }
   }
  },
  {
   "cell_type": "code",
   "execution_count": null,
   "outputs": [],
   "source": [
    "reframed = series_to_supervised(data, number1, number2)\n",
    "reframed.head()\n",
    "print(reframed.shape)\n",
    "reframed"
   ],
   "metadata": {
    "collapsed": false,
    "pycharm": {
     "name": "#%%\n"
    }
   }
  },
  {
   "cell_type": "code",
   "execution_count": null,
   "outputs": [],
   "source": [
    "#丢弃我们不想预测的列,这里预测的是最后一列，丢弃其他列\n",
    "drop_col = [number1*8, number1*8+1, number1*8+2, number1*8+3, number1*8+4, number1*8+5, number1*8+6]\n",
    "reframed.drop(reframed.columns[drop_col], axis=1, inplace=True)\n",
    "reframed.head()"
   ],
   "metadata": {
    "collapsed": false,
    "pycharm": {
     "name": "#%%\n",
     "is_executing": true
    }
   }
  },
  {
   "cell_type": "code",
   "execution_count": 15,
   "outputs": [
    {
     "name": "stdout",
     "output_type": "stream",
     "text": [
      "(1496, 801)\n"
     ]
    }
   ],
   "source": [
    "# 把数据分为训练集和测试集\n",
    "values = reframed.values\n",
    "print(values.shape)"
   ],
   "metadata": {
    "collapsed": false,
    "pycharm": {
     "name": "#%%\n"
    }
   }
  },
  {
   "cell_type": "code",
   "execution_count": 17,
   "outputs": [
    {
     "name": "stdout",
     "output_type": "stream",
     "text": [
      "训练集数据 shape: (1196, 100, 8)\n",
      "训练集标签 shape: (1196,)\n",
      "测试集数据 shape: (300, 100, 8)\n",
      "测试集标签 shape: (300,)\n"
     ]
    }
   ],
   "source": [
    "train = values[:int(values.shape[0]*0.8), :]\n",
    "test = values[int(values.shape[0]*0.8):, :]\n",
    "\n",
    "# 把数据分为输入和输出\n",
    "train_X, train_y = train[:, :-1], train[:, -1]\n",
    "test_X, test_y = test[:, :-1], test[:, -1]\n",
    "\n",
    "# 把输入重塑成符合LSTM输入的3D格式 [样例， 时间步, 特征]\n",
    "train_X = train_X.reshape((train_X.shape[0], number1, 8))\n",
    "test_X = test_X.reshape((test_X.shape[0], number1, 8))\n",
    "\n",
    "print(\"训练集数据 shape:\", train_X.shape)\n",
    "print(\"训练集标签 shape:\", train_y.shape)\n",
    "print(\"测试集数据 shape:\", test_X.shape)\n",
    "print(\"测试集标签 shape:\", test_y.shape)"
   ],
   "metadata": {
    "collapsed": false,
    "pycharm": {
     "name": "#%%\n"
    }
   }
  },
  {
   "cell_type": "code",
   "execution_count": 20,
   "outputs": [],
   "source": [
    "epochs=30\n",
    "batch_size = 32\n",
    "learning_rate = 0.001\n",
    "patience=3"
   ],
   "metadata": {
    "collapsed": false,
    "pycharm": {
     "name": "#%%\n"
    }
   }
  },
  {
   "cell_type": "code",
   "execution_count": null,
   "outputs": [],
   "source": [
    "import math\n",
    "from keras.losses import mean_squared_error\n",
    "from keras.callbacks import ReduceLROnPlateau\n",
    "from keras.optimizer_v2.adam import Adam\n",
    "from matplotlib import pyplot as plt\n",
    "from tensorflow.keras.layers import SimpleRNN\n",
    "from tensorflow.keras.layers import Dense\n",
    "from tensorflow.keras.models import Sequential\n",
    "from keras.layers import Dropout\n",
    "# 搭建RNN网络模型，默认activation=\"tanh\"\n",
    "model = Sequential()\n",
    "model.add(SimpleRNN(units=64, return_sequences=True, input_shape=(train_X.shape[1], train_X.shape[2])))\n",
    "model.add(Dropout(0.5))\n",
    "model.add(SimpleRNN(units=64, return_sequences=False))\n",
    "model.add(Dropout(0.5))\n",
    "\n",
    "model.add(Dense(32))\n",
    "model.add(Dense(1))\n",
    "\n",
    "model.compile(loss='mean_squared_error', optimizer=Adam(lr=learning_rate))\n",
    "\n",
    "lrate = ReduceLROnPlateau(monitor= 'val_loss',min_lr=0.00001,patience=patience,factor=0.5)\n",
    "# 拟合网络，batch_size默认32\n",
    "history = model.fit(train_X,\n",
    "                    train_y,\n",
    "                    epochs = epochs,\n",
    "                    batch_size=batch_size,\n",
    "                    validation_data=(test_X, test_y),\n",
    "                    callbacks=lrate,\n",
    "                    verbose=1,\n",
    "                    shuffle=True)\n",
    "# 保存模型\n",
    "model.save('results/SRNN.h5')\n",
    "# 绘制历史数据\n",
    "plt.plot(history.history['loss'], label='train')\n",
    "plt.plot(history.history['val_loss'], label='val')\n",
    "plt.legend()\n",
    "plt.show()\n",
    "\n",
    "# 模型评估\n",
    "score = model.evaluate(test_X, test_y, verbose=0)\n",
    "print(score)\n",
    "# 观察结果"
   ],
   "metadata": {
    "collapsed": false,
    "pycharm": {
     "name": "#%%\n",
     "is_executing": true
    }
   }
  },
  {
   "cell_type": "code",
   "execution_count": 31,
   "metadata": {},
   "outputs": [
    {
     "data": {
      "text/plain": "<Figure size 432x288 with 1 Axes>",
      "image/png": "[encoded data removed]"
     },
     "metadata": {},
     "output_type": "display_data"
    },
    {
     "ename": "NameError",
     "evalue": "name 'math' is not defined",
     "output_type": "error",
     "traceback": [
      "\u001B[1;31m---------------------------------------------------------------------------\u001B[0m",
      "\u001B[1;31mNameError\u001B[0m                                 Traceback (most recent call last)",
      "\u001B[1;32m~\\AppData\\Local\\Temp/ipykernel_12948/549725525.py\u001B[0m in \u001B[0;36m<module>\u001B[1;34m\u001B[0m\n\u001B[0;32m     14\u001B[0m \u001B[0max\u001B[0m\u001B[1;33m.\u001B[0m\u001B[0mlegend\u001B[0m\u001B[1;33m(\u001B[0m\u001B[1;33m)\u001B[0m\u001B[1;33m\u001B[0m\u001B[1;33m\u001B[0m\u001B[0m\n\u001B[0;32m     15\u001B[0m \u001B[0mplt\u001B[0m\u001B[1;33m.\u001B[0m\u001B[0mshow\u001B[0m\u001B[1;33m(\u001B[0m\u001B[1;33m)\u001B[0m\u001B[1;33m\u001B[0m\u001B[1;33m\u001B[0m\u001B[0m\n\u001B[1;32m---> 16\u001B[1;33m \u001B[0mrmse\u001B[0m \u001B[1;33m=\u001B[0m \u001B[0mmath\u001B[0m\u001B[1;33m.\u001B[0m\u001B[0msqrt\u001B[0m\u001B[1;33m(\u001B[0m\u001B[0mmean_squared_error\u001B[0m\u001B[1;33m(\u001B[0m\u001B[0mtest_y\u001B[0m\u001B[1;33m,\u001B[0m\u001B[0mpredicted_data\u001B[0m\u001B[1;33m)\u001B[0m\u001B[1;33m)\u001B[0m\u001B[1;33m\u001B[0m\u001B[1;33m\u001B[0m\u001B[0m\n\u001B[0m\u001B[0;32m     17\u001B[0m \u001B[0mprint\u001B[0m\u001B[1;33m(\u001B[0m\u001B[1;34m\"模型的RMSE:{}\"\u001B[0m\u001B[1;33m.\u001B[0m\u001B[0mformat\u001B[0m\u001B[1;33m(\u001B[0m\u001B[0mround\u001B[0m\u001B[1;33m(\u001B[0m\u001B[0mrmse\u001B[0m\u001B[1;33m,\u001B[0m\u001B[1;36m3\u001B[0m\u001B[1;33m)\u001B[0m\u001B[1;33m)\u001B[0m\u001B[1;33m)\u001B[0m\u001B[1;33m\u001B[0m\u001B[1;33m\u001B[0m\u001B[0m\n",
      "\u001B[1;31mNameError\u001B[0m: name 'math' is not defined"
     ]
    }
   ],
   "source": [
    "import numpy as np\n",
    "import pandas as pd\n",
    "from tensorflow.keras.models import load_model\n",
    "# 加载模型\n",
    "model_path = 'results/SRNN.h5'\n",
    "model = load_model(model_path)\n",
    "\n",
    "predicted_data = model.predict(test_X)\n",
    "\n",
    "fig = plt.figure(facecolor='white')\n",
    "ax = fig.add_subplot(211)\n",
    "ax.plot(test_y, label='True Data')\n",
    "ax.plot(predicted_data, label='Prediction_1')\n",
    "ax.legend()\n",
    "plt.show()\n",
    "rmse = math.sqrt(mean_squared_error(test_y,predicted_data))\n",
    "print(\"模型的RMSE:{}\".format(round(rmse,3)))"
   ]
  },
  {
   "cell_type": "code",
   "execution_count": null,
   "outputs": [],
   "source": [],
   "metadata": {
    "collapsed": false,
    "pycharm": {
     "name": "#%%\n"
    }
   }
  },
  {
   "cell_type": "code",
   "execution_count": 26,
   "metadata": {
    "pycharm": {
     "name": "#%%\n"
    }
   },
   "outputs": [
    {
     "name": "stdout",
     "output_type": "stream",
     "text": [
      "(100, 8)\n"
     ]
    }
   ],
   "source": [
    "# 读取数据输出结果\n",
    "def predict(sequence):\n",
    "    # 数据处理\n",
    "    sequence = sequence.astype('float64')\n",
    "    sequence = np.expand_dims(sequence, 0).repeat(1, axis=0)\n",
    "    pre_t = model.predict(sequence)\n",
    "    pre_t = np.float64(pre_t)\n",
    "    return pre_t\n",
    "a=np.loadtxt('train_input.csv',dtype=np.float64)\n",
    "b=np.loadtxt('output.txt',dtype=np.float64)\n",
    "b = b[:,np.newaxis]\n",
    "c=np.loadtxt('test_input.csv',dtype=np.float64)\n",
    "d=np.ones([798,1], dtype = np.float64)\n",
    "values=np.concatenate((a,b),axis=1)\n",
    "values2=np.concatenate((c,d),axis=1)\n",
    "values = values[-number1:,:]\n",
    "print(values.shape)"
   ]
  },
  {
   "cell_type": "code",
   "execution_count": null,
   "outputs": [],
   "source": [
    "for i in range(798):\n",
    "    # print(predict(values))\n",
    "    pre=predict(values)\n",
    "    d[i] = pre\n",
    "    # print(d[i])\n",
    "    values = np.delete(values, 0, axis = 0)\n",
    "    values2[i,7]=d[i]\n",
    "    e = values2[i]\n",
    "    e = e[np.newaxis,:]\n",
    "    #print(e.shape)\n",
    "    values=np.concatenate((values,e),axis=0)\n",
    "    #print(values.shape)\n",
    "data = pd.DataFrame(values2)\n",
    "writer = pd.ExcelWriter('results/TESTRNN.xlsx')\n",
    "data.to_excel(writer, 'page_1', float_format='%.32f')\t\t# ‘page_1’是写入excel的sheet名\n",
    "writer.save()\n",
    "writer.close()"
   ],
   "metadata": {
    "collapsed": false,
    "pycharm": {
     "name": "#%%\n"
    }
   }
  }
 ],
 "metadata": {
  "interpreter": {
   "hash": "a4464bb7170d84ed3baf15b5ee330259a1ecf9d116382ca07bf1f6bf97c48dc3"
  },
  "kernelspec": {
   "display_name": "Python 3.8.8 64-bit ('base': conda)",
   "language": "python",
   "name": "python3"
  },
  "language_info": {
   "codemirror_mode": {
    "name": "ipython",
    "version": 3
   },
   "file_extension": ".py",
   "mimetype": "text/x-python",
   "name": "python",
   "nbconvert_exporter": "python",
   "pygments_lexer": "ipython3",
   "version": "3.8.8"
  },
  "orig_nbformat": 4
 },
 "nbformat": 4,
 "nbformat_minor": 2
}